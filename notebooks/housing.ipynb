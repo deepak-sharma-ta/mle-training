{
 "cells": [
  {
   "cell_type": "code",
   "execution_count": 1,
   "id": "662e357d-1b3e-471a-b816-56e11617a109",
   "metadata": {
    "tags": []
   },
   "outputs": [],
   "source": [
    "import tarfile\n",
    "import argparse\n",
    "import os\n",
    "import numpy as np\n",
    "import pandas as pd\n",
    "import requests\n",
    "import warnings\n",
    "warnings.filterwarnings(\"ignore\")\n",
    "\n",
    "import sklearn\n",
    "from sklearn.svm import SVR\n",
    "from sklearn.impute import SimpleImputer\n",
    "from sklearn.model_selection import GridSearchCV, train_test_split\n",
    "from sklearn.model_selection import RandomizedSearchCV, StratifiedShuffleSplit\n",
    "from sklearn.base import BaseEstimator, TransformerMixin\n",
    "from sklearn.ensemble import RandomForestRegressor\n",
    "from sklearn.pipeline import Pipeline\n",
    "\n",
    "random_state = 33"
   ]
  },
  {
   "cell_type": "code",
   "execution_count": 2,
   "id": "e526ba5b-51c3-42fe-9ad2-5107a6a5bc03",
   "metadata": {
    "tags": []
   },
   "outputs": [],
   "source": [
    "PATH = \"../data/raw\"\n",
    "OUTPUT_PATH = \"../data/processed\""
   ]
  },
  {
   "cell_type": "code",
   "execution_count": 3,
   "id": "b4b06cc8-b2d9-4493-b7a1-34e4032921d8",
   "metadata": {
    "tags": []
   },
   "outputs": [],
   "source": [
    "DOWNLOAD_ROOT = \"http://raw.githubusercontent.com/ageron/handson-ml/master/\"\n",
    "HOUSING_PATH = os.path.join(os.getcwd(), PATH)\n",
    "OUTPUT_PATH = os.path.join(os.getcwd(), OUTPUT_PATH)\n",
    "HOUSING_URL = DOWNLOAD_ROOT + \"datasets/housing/housing.tgz\""
   ]
  },
  {
   "cell_type": "code",
   "execution_count": 4,
   "id": "4492e5b5-54e3-4272-9f1c-e0f82bf4fe09",
   "metadata": {
    "tags": []
   },
   "outputs": [],
   "source": [
    "def fetch_housing_data(housing_url: str, housing_path: str):\n",
    "    \"\"\"Download the housing data\n",
    "\n",
    "    Parameters\n",
    "    ----------\n",
    "\n",
    "    housing_url : str\n",
    "        Url of the dataset\n",
    "\n",
    "    housing_path : str\n",
    "        Path where the dataset is stored\n",
    "    \"\"\"\n",
    "    os.makedirs(housing_path, exist_ok=True)\n",
    "    tgz_path = os.path.join(housing_path, \"housing.tgz\")\n",
    "\n",
    "    r = requests.get(housing_url, timeout=300)\n",
    "    with open(tgz_path, \"wb\") as f:\n",
    "        f.write(r.content)\n",
    "\n",
    "    housing_tgz = tarfile.open(tgz_path)\n",
    "    housing_tgz.extractall(path=housing_path)\n",
    "    housing_tgz.close()\n",
    "    \n",
    "    \n",
    "def load_housing_data(housing_path: str):\n",
    "    \"\"\"Download the housing data\n",
    "\n",
    "    Parameters\n",
    "    ----------\n",
    "\n",
    "    housing_path : str\n",
    "        Path where the dataset is stored\n",
    "\n",
    "    Returns\n",
    "    -------\n",
    "    df: pd.DataFrame\n",
    "        It is a pandas Dataframe with rows x columns\n",
    "    \"\"\"\n",
    "    csv_path = os.path.join(housing_path, \"housing.csv\")\n",
    "\n",
    "    return pd.read_csv(csv_path)"
   ]
  },
  {
   "cell_type": "code",
   "execution_count": 5,
   "id": "a2d9186b-4b76-496c-8fdc-2fdbd7f81d91",
   "metadata": {
    "tags": []
   },
   "outputs": [],
   "source": [
    "fetch_housing_data(housing_url=HOUSING_URL, housing_path= HOUSING_PATH)\n",
    "housing = load_housing_data(HOUSING_PATH)\n",
    "\n",
    "train_set, test_set = train_test_split(housing, test_size=0.2, random_state=42)\n",
    "\n",
    "housing[\"income_cat\"] = pd.cut(\n",
    "    housing[\"median_income\"],\n",
    "    bins=[0.0, 1.5, 3.0, 4.5, 6.0, np.inf],\n",
    "    labels=[1, 2, 3, 4, 5],\n",
    ")\n",
    "\n",
    "split = StratifiedShuffleSplit(n_splits=1, test_size=0.2, random_state=42)\n",
    "for train_index, test_index in split.split(housing, housing[\"income_cat\"]):\n",
    "    strat_train_set = housing.loc[train_index]\n",
    "    strat_test_set = housing.loc[test_index]\n",
    "\n",
    "strat_train_set.to_csv(\n",
    "    os.path.join(OUTPUT_PATH, \"strat_train_set.csv\"), index=False\n",
    ")\n",
    "strat_test_set.to_csv(os.path.join(OUTPUT_PATH, \"strat_test_set.csv\"), index=False)\n",
    "\n",
    "train_set, test_set = train_test_split(housing, test_size=0.2, random_state=42)\n",
    "\n",
    "train_set.to_csv(os.path.join(OUTPUT_PATH, \"train_set.csv\"), index=False)\n",
    "test_set.to_csv(os.path.join(OUTPUT_PATH, \"test_set.csv\"), index=False)\n",
    "\n",
    "\n",
    "labels =  housing[\"median_house_value\"]\n",
    "housing = housing.drop(\"median_house_value\", axis=1)"
   ]
  },
  {
   "cell_type": "code",
   "execution_count": 6,
   "id": "c356817f-608d-4951-8c3d-5b9d3b6a03cb",
   "metadata": {
    "tags": []
   },
   "outputs": [
    {
     "data": {
      "text/plain": [
       "longitude               0\n",
       "latitude                0\n",
       "housing_median_age      0\n",
       "total_rooms             0\n",
       "total_bedrooms        207\n",
       "population              0\n",
       "households              0\n",
       "median_income           0\n",
       "ocean_proximity         0\n",
       "income_cat              0\n",
       "dtype: int64"
      ]
     },
     "execution_count": 6,
     "metadata": {},
     "output_type": "execute_result"
    }
   ],
   "source": [
    "housing.isna().sum()"
   ]
  },
  {
   "cell_type": "code",
   "execution_count": 7,
   "id": "4686e9e0-ae09-4ebb-8f8c-d0178c3d18d9",
   "metadata": {
    "tags": []
   },
   "outputs": [],
   "source": [
    "# the pre-processed data is already stored inside data/processed"
   ]
  },
  {
   "cell_type": "code",
   "execution_count": 7,
   "id": "7892f41a-d9dc-4e8a-870e-6467562d4cbf",
   "metadata": {
    "tags": []
   },
   "outputs": [
    {
     "name": "stdout",
     "output_type": "stream",
     "text": [
      "(16512, 15) (16512, 1)\n"
     ]
    }
   ],
   "source": [
    "housing_prepared = pd.read_csv(\"../data/processed/housing_prepared.csv\")\n",
    "housing_labels = pd.read_csv(\"../data/processed/housing_labels.csv\")\n",
    "\n",
    "print(housing_prepared.shape, housing_labels.shape)"
   ]
  },
  {
   "cell_type": "code",
   "execution_count": 8,
   "id": "fc2dca2f-3602-4369-9188-fcddadf1f682",
   "metadata": {
    "tags": []
   },
   "outputs": [
    {
     "data": {
      "text/html": [
       "<div>\n",
       "<style scoped>\n",
       "    .dataframe tbody tr th:only-of-type {\n",
       "        vertical-align: middle;\n",
       "    }\n",
       "\n",
       "    .dataframe tbody tr th {\n",
       "        vertical-align: top;\n",
       "    }\n",
       "\n",
       "    .dataframe thead th {\n",
       "        text-align: right;\n",
       "    }\n",
       "</style>\n",
       "<table border=\"1\" class=\"dataframe\">\n",
       "  <thead>\n",
       "    <tr style=\"text-align: right;\">\n",
       "      <th></th>\n",
       "      <th>longitude</th>\n",
       "      <th>latitude</th>\n",
       "      <th>housing_median_age</th>\n",
       "      <th>total_rooms</th>\n",
       "      <th>total_bedrooms</th>\n",
       "      <th>population</th>\n",
       "      <th>households</th>\n",
       "      <th>median_income</th>\n",
       "      <th>rooms_per_household</th>\n",
       "      <th>bedrooms_per_room</th>\n",
       "      <th>population_per_household</th>\n",
       "      <th>ocean_proximity_INLAND</th>\n",
       "      <th>ocean_proximity_ISLAND</th>\n",
       "      <th>ocean_proximity_NEAR BAY</th>\n",
       "      <th>ocean_proximity_NEAR OCEAN</th>\n",
       "    </tr>\n",
       "  </thead>\n",
       "  <tbody>\n",
       "    <tr>\n",
       "      <th>0</th>\n",
       "      <td>-121.46</td>\n",
       "      <td>38.52</td>\n",
       "      <td>29.0</td>\n",
       "      <td>3873.0</td>\n",
       "      <td>797.0</td>\n",
       "      <td>2237.0</td>\n",
       "      <td>706.0</td>\n",
       "      <td>2.1736</td>\n",
       "      <td>5.485836</td>\n",
       "      <td>0.205784</td>\n",
       "      <td>3.168555</td>\n",
       "      <td>1</td>\n",
       "      <td>0</td>\n",
       "      <td>0</td>\n",
       "      <td>0</td>\n",
       "    </tr>\n",
       "    <tr>\n",
       "      <th>1</th>\n",
       "      <td>-117.23</td>\n",
       "      <td>33.09</td>\n",
       "      <td>7.0</td>\n",
       "      <td>5320.0</td>\n",
       "      <td>855.0</td>\n",
       "      <td>2015.0</td>\n",
       "      <td>768.0</td>\n",
       "      <td>6.3373</td>\n",
       "      <td>6.927083</td>\n",
       "      <td>0.160714</td>\n",
       "      <td>2.623698</td>\n",
       "      <td>0</td>\n",
       "      <td>0</td>\n",
       "      <td>0</td>\n",
       "      <td>1</td>\n",
       "    </tr>\n",
       "    <tr>\n",
       "      <th>2</th>\n",
       "      <td>-119.04</td>\n",
       "      <td>35.37</td>\n",
       "      <td>44.0</td>\n",
       "      <td>1618.0</td>\n",
       "      <td>310.0</td>\n",
       "      <td>667.0</td>\n",
       "      <td>300.0</td>\n",
       "      <td>2.8750</td>\n",
       "      <td>5.393333</td>\n",
       "      <td>0.191595</td>\n",
       "      <td>2.223333</td>\n",
       "      <td>1</td>\n",
       "      <td>0</td>\n",
       "      <td>0</td>\n",
       "      <td>0</td>\n",
       "    </tr>\n",
       "    <tr>\n",
       "      <th>3</th>\n",
       "      <td>-117.13</td>\n",
       "      <td>32.75</td>\n",
       "      <td>24.0</td>\n",
       "      <td>1877.0</td>\n",
       "      <td>519.0</td>\n",
       "      <td>898.0</td>\n",
       "      <td>483.0</td>\n",
       "      <td>2.2264</td>\n",
       "      <td>3.886128</td>\n",
       "      <td>0.276505</td>\n",
       "      <td>1.859213</td>\n",
       "      <td>0</td>\n",
       "      <td>0</td>\n",
       "      <td>0</td>\n",
       "      <td>1</td>\n",
       "    </tr>\n",
       "    <tr>\n",
       "      <th>4</th>\n",
       "      <td>-118.70</td>\n",
       "      <td>34.28</td>\n",
       "      <td>27.0</td>\n",
       "      <td>3536.0</td>\n",
       "      <td>646.0</td>\n",
       "      <td>1837.0</td>\n",
       "      <td>580.0</td>\n",
       "      <td>4.4964</td>\n",
       "      <td>6.096552</td>\n",
       "      <td>0.182692</td>\n",
       "      <td>3.167241</td>\n",
       "      <td>0</td>\n",
       "      <td>0</td>\n",
       "      <td>0</td>\n",
       "      <td>0</td>\n",
       "    </tr>\n",
       "    <tr>\n",
       "      <th>...</th>\n",
       "      <td>...</td>\n",
       "      <td>...</td>\n",
       "      <td>...</td>\n",
       "      <td>...</td>\n",
       "      <td>...</td>\n",
       "      <td>...</td>\n",
       "      <td>...</td>\n",
       "      <td>...</td>\n",
       "      <td>...</td>\n",
       "      <td>...</td>\n",
       "      <td>...</td>\n",
       "      <td>...</td>\n",
       "      <td>...</td>\n",
       "      <td>...</td>\n",
       "      <td>...</td>\n",
       "    </tr>\n",
       "    <tr>\n",
       "      <th>16507</th>\n",
       "      <td>-117.07</td>\n",
       "      <td>33.03</td>\n",
       "      <td>14.0</td>\n",
       "      <td>6665.0</td>\n",
       "      <td>1231.0</td>\n",
       "      <td>2026.0</td>\n",
       "      <td>1001.0</td>\n",
       "      <td>5.0900</td>\n",
       "      <td>6.658342</td>\n",
       "      <td>0.184696</td>\n",
       "      <td>2.023976</td>\n",
       "      <td>0</td>\n",
       "      <td>0</td>\n",
       "      <td>0</td>\n",
       "      <td>0</td>\n",
       "    </tr>\n",
       "    <tr>\n",
       "      <th>16508</th>\n",
       "      <td>-121.42</td>\n",
       "      <td>38.51</td>\n",
       "      <td>15.0</td>\n",
       "      <td>7901.0</td>\n",
       "      <td>1422.0</td>\n",
       "      <td>4769.0</td>\n",
       "      <td>1418.0</td>\n",
       "      <td>2.8139</td>\n",
       "      <td>5.571932</td>\n",
       "      <td>0.179977</td>\n",
       "      <td>3.363188</td>\n",
       "      <td>1</td>\n",
       "      <td>0</td>\n",
       "      <td>0</td>\n",
       "      <td>0</td>\n",
       "    </tr>\n",
       "    <tr>\n",
       "      <th>16509</th>\n",
       "      <td>-122.72</td>\n",
       "      <td>38.44</td>\n",
       "      <td>48.0</td>\n",
       "      <td>707.0</td>\n",
       "      <td>166.0</td>\n",
       "      <td>458.0</td>\n",
       "      <td>172.0</td>\n",
       "      <td>3.1797</td>\n",
       "      <td>4.110465</td>\n",
       "      <td>0.234795</td>\n",
       "      <td>2.662791</td>\n",
       "      <td>0</td>\n",
       "      <td>0</td>\n",
       "      <td>0</td>\n",
       "      <td>0</td>\n",
       "    </tr>\n",
       "    <tr>\n",
       "      <th>16510</th>\n",
       "      <td>-122.70</td>\n",
       "      <td>38.31</td>\n",
       "      <td>14.0</td>\n",
       "      <td>3155.0</td>\n",
       "      <td>580.0</td>\n",
       "      <td>1208.0</td>\n",
       "      <td>501.0</td>\n",
       "      <td>4.1964</td>\n",
       "      <td>6.297405</td>\n",
       "      <td>0.183835</td>\n",
       "      <td>2.411178</td>\n",
       "      <td>0</td>\n",
       "      <td>0</td>\n",
       "      <td>0</td>\n",
       "      <td>0</td>\n",
       "    </tr>\n",
       "    <tr>\n",
       "      <th>16511</th>\n",
       "      <td>-122.14</td>\n",
       "      <td>39.97</td>\n",
       "      <td>27.0</td>\n",
       "      <td>1079.0</td>\n",
       "      <td>222.0</td>\n",
       "      <td>625.0</td>\n",
       "      <td>197.0</td>\n",
       "      <td>3.1319</td>\n",
       "      <td>5.477157</td>\n",
       "      <td>0.205746</td>\n",
       "      <td>3.172589</td>\n",
       "      <td>1</td>\n",
       "      <td>0</td>\n",
       "      <td>0</td>\n",
       "      <td>0</td>\n",
       "    </tr>\n",
       "  </tbody>\n",
       "</table>\n",
       "<p>16512 rows × 15 columns</p>\n",
       "</div>"
      ],
      "text/plain": [
       "       longitude  latitude  housing_median_age  total_rooms  total_bedrooms  \\\n",
       "0        -121.46     38.52                29.0       3873.0           797.0   \n",
       "1        -117.23     33.09                 7.0       5320.0           855.0   \n",
       "2        -119.04     35.37                44.0       1618.0           310.0   \n",
       "3        -117.13     32.75                24.0       1877.0           519.0   \n",
       "4        -118.70     34.28                27.0       3536.0           646.0   \n",
       "...          ...       ...                 ...          ...             ...   \n",
       "16507    -117.07     33.03                14.0       6665.0          1231.0   \n",
       "16508    -121.42     38.51                15.0       7901.0          1422.0   \n",
       "16509    -122.72     38.44                48.0        707.0           166.0   \n",
       "16510    -122.70     38.31                14.0       3155.0           580.0   \n",
       "16511    -122.14     39.97                27.0       1079.0           222.0   \n",
       "\n",
       "       population  households  median_income  rooms_per_household  \\\n",
       "0          2237.0       706.0         2.1736             5.485836   \n",
       "1          2015.0       768.0         6.3373             6.927083   \n",
       "2           667.0       300.0         2.8750             5.393333   \n",
       "3           898.0       483.0         2.2264             3.886128   \n",
       "4          1837.0       580.0         4.4964             6.096552   \n",
       "...           ...         ...            ...                  ...   \n",
       "16507      2026.0      1001.0         5.0900             6.658342   \n",
       "16508      4769.0      1418.0         2.8139             5.571932   \n",
       "16509       458.0       172.0         3.1797             4.110465   \n",
       "16510      1208.0       501.0         4.1964             6.297405   \n",
       "16511       625.0       197.0         3.1319             5.477157   \n",
       "\n",
       "       bedrooms_per_room  population_per_household  ocean_proximity_INLAND  \\\n",
       "0               0.205784                  3.168555                       1   \n",
       "1               0.160714                  2.623698                       0   \n",
       "2               0.191595                  2.223333                       1   \n",
       "3               0.276505                  1.859213                       0   \n",
       "4               0.182692                  3.167241                       0   \n",
       "...                  ...                       ...                     ...   \n",
       "16507           0.184696                  2.023976                       0   \n",
       "16508           0.179977                  3.363188                       1   \n",
       "16509           0.234795                  2.662791                       0   \n",
       "16510           0.183835                  2.411178                       0   \n",
       "16511           0.205746                  3.172589                       1   \n",
       "\n",
       "       ocean_proximity_ISLAND  ocean_proximity_NEAR BAY  \\\n",
       "0                           0                         0   \n",
       "1                           0                         0   \n",
       "2                           0                         0   \n",
       "3                           0                         0   \n",
       "4                           0                         0   \n",
       "...                       ...                       ...   \n",
       "16507                       0                         0   \n",
       "16508                       0                         0   \n",
       "16509                       0                         0   \n",
       "16510                       0                         0   \n",
       "16511                       0                         0   \n",
       "\n",
       "       ocean_proximity_NEAR OCEAN  \n",
       "0                               0  \n",
       "1                               1  \n",
       "2                               0  \n",
       "3                               1  \n",
       "4                               0  \n",
       "...                           ...  \n",
       "16507                           0  \n",
       "16508                           0  \n",
       "16509                           0  \n",
       "16510                           0  \n",
       "16511                           0  \n",
       "\n",
       "[16512 rows x 15 columns]"
      ]
     },
     "execution_count": 8,
     "metadata": {},
     "output_type": "execute_result"
    }
   ],
   "source": [
    "housing_prepared"
   ]
  },
  {
   "cell_type": "code",
   "execution_count": 9,
   "id": "c86922ec-478b-4747-89ea-28e306550459",
   "metadata": {
    "tags": []
   },
   "outputs": [],
   "source": [
    "housing_labels = np.asarray(housing_labels).reshape(housing_labels.shape[0])"
   ]
  },
  {
   "cell_type": "markdown",
   "id": "7415f819-63ee-4dc1-8c57-b29b0223e998",
   "metadata": {},
   "source": [
    "### Support Vector Regressor"
   ]
  },
  {
   "cell_type": "code",
   "execution_count": 10,
   "id": "88b891db-863e-4539-8fc0-4e376f2b06f5",
   "metadata": {
    "tags": []
   },
   "outputs": [],
   "source": [
    "estimator = sklearn.svm.SVR()\n",
    "\n",
    "param_grid = [\n",
    "        {'kernel': ['linear'], 'C': [1.0, 3.0, 10., 30]},\n",
    "        {'kernel': ['rbf'], 'C': [1.0, 3.0, 10., 30],\n",
    "         'gamma': [0.01, 0.03, 0.1, 0.3]},\n",
    "    ]"
   ]
  },
  {
   "cell_type": "code",
   "execution_count": 11,
   "id": "f831ba3b-a8fc-4cae-affe-7e2a72d322c2",
   "metadata": {
    "tags": []
   },
   "outputs": [
    {
     "name": "stdout",
     "output_type": "stream",
     "text": [
      "Fitting 2 folds for each of 20 candidates, totalling 40 fits\n",
      "[CV] END ...............................C=1.0, kernel=linear; total time=  11.1s\n",
      "[CV] END ...............................C=1.0, kernel=linear; total time=  11.9s\n",
      "[CV] END ...............................C=3.0, kernel=linear; total time=  26.5s\n",
      "[CV] END ...............................C=3.0, kernel=linear; total time=  23.6s\n",
      "[CV] END ..............................C=10.0, kernel=linear; total time= 1.0min\n",
      "[CV] END ..............................C=10.0, kernel=linear; total time= 1.1min\n",
      "[CV] END ................................C=30, kernel=linear; total time= 4.5min\n",
      "[CV] END ................................C=30, kernel=linear; total time= 3.3min\n",
      "[CV] END ......................C=1.0, gamma=0.01, kernel=rbf; total time=   6.0s\n",
      "[CV] END ......................C=1.0, gamma=0.01, kernel=rbf; total time=   6.0s\n",
      "[CV] END ......................C=1.0, gamma=0.03, kernel=rbf; total time=   5.8s\n",
      "[CV] END ......................C=1.0, gamma=0.03, kernel=rbf; total time=   5.9s\n",
      "[CV] END .......................C=1.0, gamma=0.1, kernel=rbf; total time=   5.8s\n",
      "[CV] END .......................C=1.0, gamma=0.1, kernel=rbf; total time=   5.7s\n",
      "[CV] END .......................C=1.0, gamma=0.3, kernel=rbf; total time=   5.8s\n",
      "[CV] END .......................C=1.0, gamma=0.3, kernel=rbf; total time=   5.8s\n",
      "[CV] END ......................C=3.0, gamma=0.01, kernel=rbf; total time=   6.0s\n",
      "[CV] END ......................C=3.0, gamma=0.01, kernel=rbf; total time=   5.9s\n",
      "[CV] END ......................C=3.0, gamma=0.03, kernel=rbf; total time=   5.8s\n",
      "[CV] END ......................C=3.0, gamma=0.03, kernel=rbf; total time=   5.8s\n",
      "[CV] END .......................C=3.0, gamma=0.1, kernel=rbf; total time=   5.8s\n",
      "[CV] END .......................C=3.0, gamma=0.1, kernel=rbf; total time=   5.7s\n",
      "[CV] END .......................C=3.0, gamma=0.3, kernel=rbf; total time=   5.7s\n",
      "[CV] END .......................C=3.0, gamma=0.3, kernel=rbf; total time=   5.9s\n",
      "[CV] END .....................C=10.0, gamma=0.01, kernel=rbf; total time=   5.8s\n",
      "[CV] END .....................C=10.0, gamma=0.01, kernel=rbf; total time=   5.9s\n",
      "[CV] END .....................C=10.0, gamma=0.03, kernel=rbf; total time=   5.9s\n",
      "[CV] END .....................C=10.0, gamma=0.03, kernel=rbf; total time=   5.7s\n",
      "[CV] END ......................C=10.0, gamma=0.1, kernel=rbf; total time=   5.8s\n",
      "[CV] END ......................C=10.0, gamma=0.1, kernel=rbf; total time=   5.9s\n",
      "[CV] END ......................C=10.0, gamma=0.3, kernel=rbf; total time=   5.7s\n",
      "[CV] END ......................C=10.0, gamma=0.3, kernel=rbf; total time=   5.7s\n",
      "[CV] END .......................C=30, gamma=0.01, kernel=rbf; total time=   5.9s\n",
      "[CV] END .......................C=30, gamma=0.01, kernel=rbf; total time=   5.7s\n",
      "[CV] END .......................C=30, gamma=0.03, kernel=rbf; total time=   5.8s\n",
      "[CV] END .......................C=30, gamma=0.03, kernel=rbf; total time=   5.9s\n",
      "[CV] END ........................C=30, gamma=0.1, kernel=rbf; total time=   5.8s\n",
      "[CV] END ........................C=30, gamma=0.1, kernel=rbf; total time=   5.8s\n",
      "[CV] END ........................C=30, gamma=0.3, kernel=rbf; total time=   5.8s\n",
      "[CV] END ........................C=30, gamma=0.3, kernel=rbf; total time=   5.8s\n"
     ]
    },
    {
     "data": {
      "text/html": [
       "<style>#sk-container-id-1 {color: black;background-color: white;}#sk-container-id-1 pre{padding: 0;}#sk-container-id-1 div.sk-toggleable {background-color: white;}#sk-container-id-1 label.sk-toggleable__label {cursor: pointer;display: block;width: 100%;margin-bottom: 0;padding: 0.3em;box-sizing: border-box;text-align: center;}#sk-container-id-1 label.sk-toggleable__label-arrow:before {content: \"▸\";float: left;margin-right: 0.25em;color: #696969;}#sk-container-id-1 label.sk-toggleable__label-arrow:hover:before {color: black;}#sk-container-id-1 div.sk-estimator:hover label.sk-toggleable__label-arrow:before {color: black;}#sk-container-id-1 div.sk-toggleable__content {max-height: 0;max-width: 0;overflow: hidden;text-align: left;background-color: #f0f8ff;}#sk-container-id-1 div.sk-toggleable__content pre {margin: 0.2em;color: black;border-radius: 0.25em;background-color: #f0f8ff;}#sk-container-id-1 input.sk-toggleable__control:checked~div.sk-toggleable__content {max-height: 200px;max-width: 100%;overflow: auto;}#sk-container-id-1 input.sk-toggleable__control:checked~label.sk-toggleable__label-arrow:before {content: \"▾\";}#sk-container-id-1 div.sk-estimator input.sk-toggleable__control:checked~label.sk-toggleable__label {background-color: #d4ebff;}#sk-container-id-1 div.sk-label input.sk-toggleable__control:checked~label.sk-toggleable__label {background-color: #d4ebff;}#sk-container-id-1 input.sk-hidden--visually {border: 0;clip: rect(1px 1px 1px 1px);clip: rect(1px, 1px, 1px, 1px);height: 1px;margin: -1px;overflow: hidden;padding: 0;position: absolute;width: 1px;}#sk-container-id-1 div.sk-estimator {font-family: monospace;background-color: #f0f8ff;border: 1px dotted black;border-radius: 0.25em;box-sizing: border-box;margin-bottom: 0.5em;}#sk-container-id-1 div.sk-estimator:hover {background-color: #d4ebff;}#sk-container-id-1 div.sk-parallel-item::after {content: \"\";width: 100%;border-bottom: 1px solid gray;flex-grow: 1;}#sk-container-id-1 div.sk-label:hover label.sk-toggleable__label {background-color: #d4ebff;}#sk-container-id-1 div.sk-serial::before {content: \"\";position: absolute;border-left: 1px solid gray;box-sizing: border-box;top: 0;bottom: 0;left: 50%;z-index: 0;}#sk-container-id-1 div.sk-serial {display: flex;flex-direction: column;align-items: center;background-color: white;padding-right: 0.2em;padding-left: 0.2em;position: relative;}#sk-container-id-1 div.sk-item {position: relative;z-index: 1;}#sk-container-id-1 div.sk-parallel {display: flex;align-items: stretch;justify-content: center;background-color: white;position: relative;}#sk-container-id-1 div.sk-item::before, #sk-container-id-1 div.sk-parallel-item::before {content: \"\";position: absolute;border-left: 1px solid gray;box-sizing: border-box;top: 0;bottom: 0;left: 50%;z-index: -1;}#sk-container-id-1 div.sk-parallel-item {display: flex;flex-direction: column;z-index: 1;position: relative;background-color: white;}#sk-container-id-1 div.sk-parallel-item:first-child::after {align-self: flex-end;width: 50%;}#sk-container-id-1 div.sk-parallel-item:last-child::after {align-self: flex-start;width: 50%;}#sk-container-id-1 div.sk-parallel-item:only-child::after {width: 0;}#sk-container-id-1 div.sk-dashed-wrapped {border: 1px dashed gray;margin: 0 0.4em 0.5em 0.4em;box-sizing: border-box;padding-bottom: 0.4em;background-color: white;}#sk-container-id-1 div.sk-label label {font-family: monospace;font-weight: bold;display: inline-block;line-height: 1.2em;}#sk-container-id-1 div.sk-label-container {text-align: center;}#sk-container-id-1 div.sk-container {/* jupyter's `normalize.less` sets `[hidden] { display: none; }` but bootstrap.min.css set `[hidden] { display: none !important; }` so we also need the `!important` here to be able to override the default hidden behavior on the sphinx rendered scikit-learn.org. See: https://github.com/scikit-learn/scikit-learn/issues/21755 */display: inline-block !important;position: relative;}#sk-container-id-1 div.sk-text-repr-fallback {display: none;}</style><div id=\"sk-container-id-1\" class=\"sk-top-container\"><div class=\"sk-text-repr-fallback\"><pre>GridSearchCV(cv=2, estimator=SVR(),\n",
       "             param_grid=[{&#x27;C&#x27;: [1.0, 3.0, 10.0, 30], &#x27;kernel&#x27;: [&#x27;linear&#x27;]},\n",
       "                         {&#x27;C&#x27;: [1.0, 3.0, 10.0, 30],\n",
       "                          &#x27;gamma&#x27;: [0.01, 0.03, 0.1, 0.3], &#x27;kernel&#x27;: [&#x27;rbf&#x27;]}],\n",
       "             return_train_score=True, scoring=&#x27;neg_mean_squared_error&#x27;,\n",
       "             verbose=2)</pre><b>In a Jupyter environment, please rerun this cell to show the HTML representation or trust the notebook. <br />On GitHub, the HTML representation is unable to render, please try loading this page with nbviewer.org.</b></div><div class=\"sk-container\" hidden><div class=\"sk-item sk-dashed-wrapped\"><div class=\"sk-label-container\"><div class=\"sk-label sk-toggleable\"><input class=\"sk-toggleable__control sk-hidden--visually\" id=\"sk-estimator-id-1\" type=\"checkbox\" ><label for=\"sk-estimator-id-1\" class=\"sk-toggleable__label sk-toggleable__label-arrow\">GridSearchCV</label><div class=\"sk-toggleable__content\"><pre>GridSearchCV(cv=2, estimator=SVR(),\n",
       "             param_grid=[{&#x27;C&#x27;: [1.0, 3.0, 10.0, 30], &#x27;kernel&#x27;: [&#x27;linear&#x27;]},\n",
       "                         {&#x27;C&#x27;: [1.0, 3.0, 10.0, 30],\n",
       "                          &#x27;gamma&#x27;: [0.01, 0.03, 0.1, 0.3], &#x27;kernel&#x27;: [&#x27;rbf&#x27;]}],\n",
       "             return_train_score=True, scoring=&#x27;neg_mean_squared_error&#x27;,\n",
       "             verbose=2)</pre></div></div></div><div class=\"sk-parallel\"><div class=\"sk-parallel-item\"><div class=\"sk-item\"><div class=\"sk-label-container\"><div class=\"sk-label sk-toggleable\"><input class=\"sk-toggleable__control sk-hidden--visually\" id=\"sk-estimator-id-2\" type=\"checkbox\" ><label for=\"sk-estimator-id-2\" class=\"sk-toggleable__label sk-toggleable__label-arrow\">estimator: SVR</label><div class=\"sk-toggleable__content\"><pre>SVR()</pre></div></div></div><div class=\"sk-serial\"><div class=\"sk-item\"><div class=\"sk-estimator sk-toggleable\"><input class=\"sk-toggleable__control sk-hidden--visually\" id=\"sk-estimator-id-3\" type=\"checkbox\" ><label for=\"sk-estimator-id-3\" class=\"sk-toggleable__label sk-toggleable__label-arrow\">SVR</label><div class=\"sk-toggleable__content\"><pre>SVR()</pre></div></div></div></div></div></div></div></div></div></div>"
      ],
      "text/plain": [
       "GridSearchCV(cv=2, estimator=SVR(),\n",
       "             param_grid=[{'C': [1.0, 3.0, 10.0, 30], 'kernel': ['linear']},\n",
       "                         {'C': [1.0, 3.0, 10.0, 30],\n",
       "                          'gamma': [0.01, 0.03, 0.1, 0.3], 'kernel': ['rbf']}],\n",
       "             return_train_score=True, scoring='neg_mean_squared_error',\n",
       "             verbose=2)"
      ]
     },
     "execution_count": 11,
     "metadata": {},
     "output_type": "execute_result"
    }
   ],
   "source": [
    "search = sklearn.model_selection.GridSearchCV(estimator, param_grid, scoring='neg_mean_squared_error', n_jobs=None, refit=True, cv=2, \n",
    "                                              verbose=2, pre_dispatch='2*n_jobs', error_score=np.nan, return_train_score=True)\n",
    "search.fit(housing_prepared, housing_labels)"
   ]
  },
  {
   "cell_type": "code",
   "execution_count": 12,
   "id": "5db0b0c6-4e68-4a0c-8683-8dd467bc1ba8",
   "metadata": {
    "tags": []
   },
   "outputs": [
    {
     "data": {
      "text/html": [
       "<style>#sk-container-id-2 {color: black;background-color: white;}#sk-container-id-2 pre{padding: 0;}#sk-container-id-2 div.sk-toggleable {background-color: white;}#sk-container-id-2 label.sk-toggleable__label {cursor: pointer;display: block;width: 100%;margin-bottom: 0;padding: 0.3em;box-sizing: border-box;text-align: center;}#sk-container-id-2 label.sk-toggleable__label-arrow:before {content: \"▸\";float: left;margin-right: 0.25em;color: #696969;}#sk-container-id-2 label.sk-toggleable__label-arrow:hover:before {color: black;}#sk-container-id-2 div.sk-estimator:hover label.sk-toggleable__label-arrow:before {color: black;}#sk-container-id-2 div.sk-toggleable__content {max-height: 0;max-width: 0;overflow: hidden;text-align: left;background-color: #f0f8ff;}#sk-container-id-2 div.sk-toggleable__content pre {margin: 0.2em;color: black;border-radius: 0.25em;background-color: #f0f8ff;}#sk-container-id-2 input.sk-toggleable__control:checked~div.sk-toggleable__content {max-height: 200px;max-width: 100%;overflow: auto;}#sk-container-id-2 input.sk-toggleable__control:checked~label.sk-toggleable__label-arrow:before {content: \"▾\";}#sk-container-id-2 div.sk-estimator input.sk-toggleable__control:checked~label.sk-toggleable__label {background-color: #d4ebff;}#sk-container-id-2 div.sk-label input.sk-toggleable__control:checked~label.sk-toggleable__label {background-color: #d4ebff;}#sk-container-id-2 input.sk-hidden--visually {border: 0;clip: rect(1px 1px 1px 1px);clip: rect(1px, 1px, 1px, 1px);height: 1px;margin: -1px;overflow: hidden;padding: 0;position: absolute;width: 1px;}#sk-container-id-2 div.sk-estimator {font-family: monospace;background-color: #f0f8ff;border: 1px dotted black;border-radius: 0.25em;box-sizing: border-box;margin-bottom: 0.5em;}#sk-container-id-2 div.sk-estimator:hover {background-color: #d4ebff;}#sk-container-id-2 div.sk-parallel-item::after {content: \"\";width: 100%;border-bottom: 1px solid gray;flex-grow: 1;}#sk-container-id-2 div.sk-label:hover label.sk-toggleable__label {background-color: #d4ebff;}#sk-container-id-2 div.sk-serial::before {content: \"\";position: absolute;border-left: 1px solid gray;box-sizing: border-box;top: 0;bottom: 0;left: 50%;z-index: 0;}#sk-container-id-2 div.sk-serial {display: flex;flex-direction: column;align-items: center;background-color: white;padding-right: 0.2em;padding-left: 0.2em;position: relative;}#sk-container-id-2 div.sk-item {position: relative;z-index: 1;}#sk-container-id-2 div.sk-parallel {display: flex;align-items: stretch;justify-content: center;background-color: white;position: relative;}#sk-container-id-2 div.sk-item::before, #sk-container-id-2 div.sk-parallel-item::before {content: \"\";position: absolute;border-left: 1px solid gray;box-sizing: border-box;top: 0;bottom: 0;left: 50%;z-index: -1;}#sk-container-id-2 div.sk-parallel-item {display: flex;flex-direction: column;z-index: 1;position: relative;background-color: white;}#sk-container-id-2 div.sk-parallel-item:first-child::after {align-self: flex-end;width: 50%;}#sk-container-id-2 div.sk-parallel-item:last-child::after {align-self: flex-start;width: 50%;}#sk-container-id-2 div.sk-parallel-item:only-child::after {width: 0;}#sk-container-id-2 div.sk-dashed-wrapped {border: 1px dashed gray;margin: 0 0.4em 0.5em 0.4em;box-sizing: border-box;padding-bottom: 0.4em;background-color: white;}#sk-container-id-2 div.sk-label label {font-family: monospace;font-weight: bold;display: inline-block;line-height: 1.2em;}#sk-container-id-2 div.sk-label-container {text-align: center;}#sk-container-id-2 div.sk-container {/* jupyter's `normalize.less` sets `[hidden] { display: none; }` but bootstrap.min.css set `[hidden] { display: none !important; }` so we also need the `!important` here to be able to override the default hidden behavior on the sphinx rendered scikit-learn.org. See: https://github.com/scikit-learn/scikit-learn/issues/21755 */display: inline-block !important;position: relative;}#sk-container-id-2 div.sk-text-repr-fallback {display: none;}</style><div id=\"sk-container-id-2\" class=\"sk-top-container\"><div class=\"sk-text-repr-fallback\"><pre>SVR(C=30, kernel=&#x27;linear&#x27;)</pre><b>In a Jupyter environment, please rerun this cell to show the HTML representation or trust the notebook. <br />On GitHub, the HTML representation is unable to render, please try loading this page with nbviewer.org.</b></div><div class=\"sk-container\" hidden><div class=\"sk-item\"><div class=\"sk-estimator sk-toggleable\"><input class=\"sk-toggleable__control sk-hidden--visually\" id=\"sk-estimator-id-4\" type=\"checkbox\" checked><label for=\"sk-estimator-id-4\" class=\"sk-toggleable__label sk-toggleable__label-arrow\">SVR</label><div class=\"sk-toggleable__content\"><pre>SVR(C=30, kernel=&#x27;linear&#x27;)</pre></div></div></div></div></div>"
      ],
      "text/plain": [
       "SVR(C=30, kernel='linear')"
      ]
     },
     "execution_count": 12,
     "metadata": {},
     "output_type": "execute_result"
    }
   ],
   "source": [
    "search.best_estimator_"
   ]
  },
  {
   "cell_type": "markdown",
   "id": "185d52c4-1dee-4c3c-acff-843472981986",
   "metadata": {},
   "source": [
    "### Randomized Search CV"
   ]
  },
  {
   "cell_type": "code",
   "execution_count": 13,
   "id": "6d0c0836-24f1-4ece-ae88-3b81dc05a09d",
   "metadata": {
    "tags": []
   },
   "outputs": [
    {
     "name": "stdout",
     "output_type": "stream",
     "text": [
      "Fitting 2 folds for each of 10 candidates, totalling 20 fits\n",
      "[CV] END .......................C=30, gamma=0.03, kernel=rbf; total time=   4.1s\n",
      "[CV] END .......................C=30, gamma=0.03, kernel=rbf; total time=   4.2s\n",
      "[CV] END ......................C=3.0, gamma=0.01, kernel=rbf; total time=   4.4s\n",
      "[CV] END ......................C=3.0, gamma=0.01, kernel=rbf; total time=   4.4s\n",
      "[CV] END ......................C=10.0, gamma=0.3, kernel=rbf; total time=   4.1s\n",
      "[CV] END ......................C=10.0, gamma=0.3, kernel=rbf; total time=   4.1s\n",
      "[CV] END ........................C=30, gamma=0.1, kernel=rbf; total time=   4.1s\n",
      "[CV] END ........................C=30, gamma=0.1, kernel=rbf; total time=   3.9s\n",
      "[CV] END ......................C=1.0, gamma=0.03, kernel=rbf; total time=   4.3s\n",
      "[CV] END ......................C=1.0, gamma=0.03, kernel=rbf; total time=   4.3s\n",
      "[CV] END ...............................C=1.0, kernel=linear; total time=   9.6s\n",
      "[CV] END ...............................C=1.0, kernel=linear; total time=   9.6s\n",
      "[CV] END .......................C=3.0, gamma=0.3, kernel=rbf; total time=   4.1s\n",
      "[CV] END .......................C=3.0, gamma=0.3, kernel=rbf; total time=   5.2s\n",
      "[CV] END ......................C=1.0, gamma=0.01, kernel=rbf; total time=   5.0s\n",
      "[CV] END ......................C=1.0, gamma=0.01, kernel=rbf; total time=   4.6s\n",
      "[CV] END ........................C=30, gamma=0.3, kernel=rbf; total time=   4.2s\n",
      "[CV] END ........................C=30, gamma=0.3, kernel=rbf; total time=   4.3s\n",
      "[CV] END ...............................C=3.0, kernel=linear; total time=  22.2s\n",
      "[CV] END ...............................C=3.0, kernel=linear; total time=  22.3s\n"
     ]
    },
    {
     "data": {
      "text/html": [
       "<style>#sk-container-id-3 {color: black;background-color: white;}#sk-container-id-3 pre{padding: 0;}#sk-container-id-3 div.sk-toggleable {background-color: white;}#sk-container-id-3 label.sk-toggleable__label {cursor: pointer;display: block;width: 100%;margin-bottom: 0;padding: 0.3em;box-sizing: border-box;text-align: center;}#sk-container-id-3 label.sk-toggleable__label-arrow:before {content: \"▸\";float: left;margin-right: 0.25em;color: #696969;}#sk-container-id-3 label.sk-toggleable__label-arrow:hover:before {color: black;}#sk-container-id-3 div.sk-estimator:hover label.sk-toggleable__label-arrow:before {color: black;}#sk-container-id-3 div.sk-toggleable__content {max-height: 0;max-width: 0;overflow: hidden;text-align: left;background-color: #f0f8ff;}#sk-container-id-3 div.sk-toggleable__content pre {margin: 0.2em;color: black;border-radius: 0.25em;background-color: #f0f8ff;}#sk-container-id-3 input.sk-toggleable__control:checked~div.sk-toggleable__content {max-height: 200px;max-width: 100%;overflow: auto;}#sk-container-id-3 input.sk-toggleable__control:checked~label.sk-toggleable__label-arrow:before {content: \"▾\";}#sk-container-id-3 div.sk-estimator input.sk-toggleable__control:checked~label.sk-toggleable__label {background-color: #d4ebff;}#sk-container-id-3 div.sk-label input.sk-toggleable__control:checked~label.sk-toggleable__label {background-color: #d4ebff;}#sk-container-id-3 input.sk-hidden--visually {border: 0;clip: rect(1px 1px 1px 1px);clip: rect(1px, 1px, 1px, 1px);height: 1px;margin: -1px;overflow: hidden;padding: 0;position: absolute;width: 1px;}#sk-container-id-3 div.sk-estimator {font-family: monospace;background-color: #f0f8ff;border: 1px dotted black;border-radius: 0.25em;box-sizing: border-box;margin-bottom: 0.5em;}#sk-container-id-3 div.sk-estimator:hover {background-color: #d4ebff;}#sk-container-id-3 div.sk-parallel-item::after {content: \"\";width: 100%;border-bottom: 1px solid gray;flex-grow: 1;}#sk-container-id-3 div.sk-label:hover label.sk-toggleable__label {background-color: #d4ebff;}#sk-container-id-3 div.sk-serial::before {content: \"\";position: absolute;border-left: 1px solid gray;box-sizing: border-box;top: 0;bottom: 0;left: 50%;z-index: 0;}#sk-container-id-3 div.sk-serial {display: flex;flex-direction: column;align-items: center;background-color: white;padding-right: 0.2em;padding-left: 0.2em;position: relative;}#sk-container-id-3 div.sk-item {position: relative;z-index: 1;}#sk-container-id-3 div.sk-parallel {display: flex;align-items: stretch;justify-content: center;background-color: white;position: relative;}#sk-container-id-3 div.sk-item::before, #sk-container-id-3 div.sk-parallel-item::before {content: \"\";position: absolute;border-left: 1px solid gray;box-sizing: border-box;top: 0;bottom: 0;left: 50%;z-index: -1;}#sk-container-id-3 div.sk-parallel-item {display: flex;flex-direction: column;z-index: 1;position: relative;background-color: white;}#sk-container-id-3 div.sk-parallel-item:first-child::after {align-self: flex-end;width: 50%;}#sk-container-id-3 div.sk-parallel-item:last-child::after {align-self: flex-start;width: 50%;}#sk-container-id-3 div.sk-parallel-item:only-child::after {width: 0;}#sk-container-id-3 div.sk-dashed-wrapped {border: 1px dashed gray;margin: 0 0.4em 0.5em 0.4em;box-sizing: border-box;padding-bottom: 0.4em;background-color: white;}#sk-container-id-3 div.sk-label label {font-family: monospace;font-weight: bold;display: inline-block;line-height: 1.2em;}#sk-container-id-3 div.sk-label-container {text-align: center;}#sk-container-id-3 div.sk-container {/* jupyter's `normalize.less` sets `[hidden] { display: none; }` but bootstrap.min.css set `[hidden] { display: none !important; }` so we also need the `!important` here to be able to override the default hidden behavior on the sphinx rendered scikit-learn.org. See: https://github.com/scikit-learn/scikit-learn/issues/21755 */display: inline-block !important;position: relative;}#sk-container-id-3 div.sk-text-repr-fallback {display: none;}</style><div id=\"sk-container-id-3\" class=\"sk-top-container\"><div class=\"sk-text-repr-fallback\"><pre>RandomizedSearchCV(cv=2, estimator=SVR(),\n",
       "                   param_distributions=[{&#x27;C&#x27;: [1.0, 3.0, 10.0, 30],\n",
       "                                         &#x27;kernel&#x27;: [&#x27;linear&#x27;]},\n",
       "                                        {&#x27;C&#x27;: [1.0, 3.0, 10.0, 30],\n",
       "                                         &#x27;gamma&#x27;: [0.01, 0.03, 0.1, 0.3],\n",
       "                                         &#x27;kernel&#x27;: [&#x27;rbf&#x27;]}],\n",
       "                   random_state=33, return_train_score=True,\n",
       "                   scoring=&#x27;neg_mean_squared_error&#x27;, verbose=2)</pre><b>In a Jupyter environment, please rerun this cell to show the HTML representation or trust the notebook. <br />On GitHub, the HTML representation is unable to render, please try loading this page with nbviewer.org.</b></div><div class=\"sk-container\" hidden><div class=\"sk-item sk-dashed-wrapped\"><div class=\"sk-label-container\"><div class=\"sk-label sk-toggleable\"><input class=\"sk-toggleable__control sk-hidden--visually\" id=\"sk-estimator-id-5\" type=\"checkbox\" ><label for=\"sk-estimator-id-5\" class=\"sk-toggleable__label sk-toggleable__label-arrow\">RandomizedSearchCV</label><div class=\"sk-toggleable__content\"><pre>RandomizedSearchCV(cv=2, estimator=SVR(),\n",
       "                   param_distributions=[{&#x27;C&#x27;: [1.0, 3.0, 10.0, 30],\n",
       "                                         &#x27;kernel&#x27;: [&#x27;linear&#x27;]},\n",
       "                                        {&#x27;C&#x27;: [1.0, 3.0, 10.0, 30],\n",
       "                                         &#x27;gamma&#x27;: [0.01, 0.03, 0.1, 0.3],\n",
       "                                         &#x27;kernel&#x27;: [&#x27;rbf&#x27;]}],\n",
       "                   random_state=33, return_train_score=True,\n",
       "                   scoring=&#x27;neg_mean_squared_error&#x27;, verbose=2)</pre></div></div></div><div class=\"sk-parallel\"><div class=\"sk-parallel-item\"><div class=\"sk-item\"><div class=\"sk-label-container\"><div class=\"sk-label sk-toggleable\"><input class=\"sk-toggleable__control sk-hidden--visually\" id=\"sk-estimator-id-6\" type=\"checkbox\" ><label for=\"sk-estimator-id-6\" class=\"sk-toggleable__label sk-toggleable__label-arrow\">estimator: SVR</label><div class=\"sk-toggleable__content\"><pre>SVR()</pre></div></div></div><div class=\"sk-serial\"><div class=\"sk-item\"><div class=\"sk-estimator sk-toggleable\"><input class=\"sk-toggleable__control sk-hidden--visually\" id=\"sk-estimator-id-7\" type=\"checkbox\" ><label for=\"sk-estimator-id-7\" class=\"sk-toggleable__label sk-toggleable__label-arrow\">SVR</label><div class=\"sk-toggleable__content\"><pre>SVR()</pre></div></div></div></div></div></div></div></div></div></div>"
      ],
      "text/plain": [
       "RandomizedSearchCV(cv=2, estimator=SVR(),\n",
       "                   param_distributions=[{'C': [1.0, 3.0, 10.0, 30],\n",
       "                                         'kernel': ['linear']},\n",
       "                                        {'C': [1.0, 3.0, 10.0, 30],\n",
       "                                         'gamma': [0.01, 0.03, 0.1, 0.3],\n",
       "                                         'kernel': ['rbf']}],\n",
       "                   random_state=33, return_train_score=True,\n",
       "                   scoring='neg_mean_squared_error', verbose=2)"
      ]
     },
     "execution_count": 13,
     "metadata": {},
     "output_type": "execute_result"
    }
   ],
   "source": [
    "random_search = sklearn.model_selection.RandomizedSearchCV(estimator, param_grid, n_iter=10, scoring='neg_mean_squared_error', n_jobs=None, \n",
    "                                           refit=True, cv=2, verbose=2, pre_dispatch='2*n_jobs', random_state=random_state, \n",
    "                                           error_score=np.nan, return_train_score=True)\n",
    "\n",
    "random_search.fit(housing_prepared, housing_labels)"
   ]
  },
  {
   "cell_type": "code",
   "execution_count": 14,
   "id": "dbb140eb-2c5a-41ef-afc9-4f70e0eb2786",
   "metadata": {
    "tags": []
   },
   "outputs": [
    {
     "data": {
      "text/html": [
       "<style>#sk-container-id-4 {color: black;background-color: white;}#sk-container-id-4 pre{padding: 0;}#sk-container-id-4 div.sk-toggleable {background-color: white;}#sk-container-id-4 label.sk-toggleable__label {cursor: pointer;display: block;width: 100%;margin-bottom: 0;padding: 0.3em;box-sizing: border-box;text-align: center;}#sk-container-id-4 label.sk-toggleable__label-arrow:before {content: \"▸\";float: left;margin-right: 0.25em;color: #696969;}#sk-container-id-4 label.sk-toggleable__label-arrow:hover:before {color: black;}#sk-container-id-4 div.sk-estimator:hover label.sk-toggleable__label-arrow:before {color: black;}#sk-container-id-4 div.sk-toggleable__content {max-height: 0;max-width: 0;overflow: hidden;text-align: left;background-color: #f0f8ff;}#sk-container-id-4 div.sk-toggleable__content pre {margin: 0.2em;color: black;border-radius: 0.25em;background-color: #f0f8ff;}#sk-container-id-4 input.sk-toggleable__control:checked~div.sk-toggleable__content {max-height: 200px;max-width: 100%;overflow: auto;}#sk-container-id-4 input.sk-toggleable__control:checked~label.sk-toggleable__label-arrow:before {content: \"▾\";}#sk-container-id-4 div.sk-estimator input.sk-toggleable__control:checked~label.sk-toggleable__label {background-color: #d4ebff;}#sk-container-id-4 div.sk-label input.sk-toggleable__control:checked~label.sk-toggleable__label {background-color: #d4ebff;}#sk-container-id-4 input.sk-hidden--visually {border: 0;clip: rect(1px 1px 1px 1px);clip: rect(1px, 1px, 1px, 1px);height: 1px;margin: -1px;overflow: hidden;padding: 0;position: absolute;width: 1px;}#sk-container-id-4 div.sk-estimator {font-family: monospace;background-color: #f0f8ff;border: 1px dotted black;border-radius: 0.25em;box-sizing: border-box;margin-bottom: 0.5em;}#sk-container-id-4 div.sk-estimator:hover {background-color: #d4ebff;}#sk-container-id-4 div.sk-parallel-item::after {content: \"\";width: 100%;border-bottom: 1px solid gray;flex-grow: 1;}#sk-container-id-4 div.sk-label:hover label.sk-toggleable__label {background-color: #d4ebff;}#sk-container-id-4 div.sk-serial::before {content: \"\";position: absolute;border-left: 1px solid gray;box-sizing: border-box;top: 0;bottom: 0;left: 50%;z-index: 0;}#sk-container-id-4 div.sk-serial {display: flex;flex-direction: column;align-items: center;background-color: white;padding-right: 0.2em;padding-left: 0.2em;position: relative;}#sk-container-id-4 div.sk-item {position: relative;z-index: 1;}#sk-container-id-4 div.sk-parallel {display: flex;align-items: stretch;justify-content: center;background-color: white;position: relative;}#sk-container-id-4 div.sk-item::before, #sk-container-id-4 div.sk-parallel-item::before {content: \"\";position: absolute;border-left: 1px solid gray;box-sizing: border-box;top: 0;bottom: 0;left: 50%;z-index: -1;}#sk-container-id-4 div.sk-parallel-item {display: flex;flex-direction: column;z-index: 1;position: relative;background-color: white;}#sk-container-id-4 div.sk-parallel-item:first-child::after {align-self: flex-end;width: 50%;}#sk-container-id-4 div.sk-parallel-item:last-child::after {align-self: flex-start;width: 50%;}#sk-container-id-4 div.sk-parallel-item:only-child::after {width: 0;}#sk-container-id-4 div.sk-dashed-wrapped {border: 1px dashed gray;margin: 0 0.4em 0.5em 0.4em;box-sizing: border-box;padding-bottom: 0.4em;background-color: white;}#sk-container-id-4 div.sk-label label {font-family: monospace;font-weight: bold;display: inline-block;line-height: 1.2em;}#sk-container-id-4 div.sk-label-container {text-align: center;}#sk-container-id-4 div.sk-container {/* jupyter's `normalize.less` sets `[hidden] { display: none; }` but bootstrap.min.css set `[hidden] { display: none !important; }` so we also need the `!important` here to be able to override the default hidden behavior on the sphinx rendered scikit-learn.org. See: https://github.com/scikit-learn/scikit-learn/issues/21755 */display: inline-block !important;position: relative;}#sk-container-id-4 div.sk-text-repr-fallback {display: none;}</style><div id=\"sk-container-id-4\" class=\"sk-top-container\"><div class=\"sk-text-repr-fallback\"><pre>SVR(C=3.0, kernel=&#x27;linear&#x27;)</pre><b>In a Jupyter environment, please rerun this cell to show the HTML representation or trust the notebook. <br />On GitHub, the HTML representation is unable to render, please try loading this page with nbviewer.org.</b></div><div class=\"sk-container\" hidden><div class=\"sk-item\"><div class=\"sk-estimator sk-toggleable\"><input class=\"sk-toggleable__control sk-hidden--visually\" id=\"sk-estimator-id-8\" type=\"checkbox\" checked><label for=\"sk-estimator-id-8\" class=\"sk-toggleable__label sk-toggleable__label-arrow\">SVR</label><div class=\"sk-toggleable__content\"><pre>SVR(C=3.0, kernel=&#x27;linear&#x27;)</pre></div></div></div></div></div>"
      ],
      "text/plain": [
       "SVR(C=3.0, kernel='linear')"
      ]
     },
     "execution_count": 14,
     "metadata": {},
     "output_type": "execute_result"
    }
   ],
   "source": [
    "random_search.best_estimator_"
   ]
  },
  {
   "cell_type": "code",
   "execution_count": 15,
   "id": "73e8d45a-e7d5-4237-8947-fe9c09634b28",
   "metadata": {
    "tags": []
   },
   "outputs": [],
   "source": [
    "# model = SVR(C=3.0, kernel='linear')\n",
    "# model.fit(housing_prepared, housing_labels)"
   ]
  },
  {
   "cell_type": "code",
   "execution_count": 16,
   "id": "5cdd1aa8-b108-425e-9168-3dc44c68cdc7",
   "metadata": {
    "tags": []
   },
   "outputs": [],
   "source": [
    "# housing_"
   ]
  },
  {
   "cell_type": "code",
   "execution_count": 17,
   "id": "04d30a07-d30f-4246-81bb-0c1f546236fb",
   "metadata": {
    "tags": []
   },
   "outputs": [],
   "source": [
    "housing__ = housing.copy()\n",
    "housing__.drop(\"ocean_proximity\", inplace=True, axis=1)\n",
    "column_names = housing__.copy().columns"
   ]
  },
  {
   "cell_type": "code",
   "execution_count": 18,
   "id": "ed1eeb39-9e42-428c-a36c-86af48207d33",
   "metadata": {
    "tags": []
   },
   "outputs": [],
   "source": [
    "SI = SimpleImputer(strategy=\"mean\")\n",
    "housing__ = SI.fit_transform(housing__)"
   ]
  },
  {
   "cell_type": "code",
   "execution_count": 19,
   "id": "66e7dec8-23a5-43ad-aa87-39835900e5b1",
   "metadata": {
    "tags": []
   },
   "outputs": [],
   "source": [
    "rfr = RandomForestRegressor(random_state= random_state)\n",
    "rfr.fit(housing__, labels)\n",
    "feature_importances = rfr.feature_importances_"
   ]
  },
  {
   "cell_type": "code",
   "execution_count": 20,
   "id": "7522d0a9-3bce-4d7f-a298-a7828facc449",
   "metadata": {
    "tags": []
   },
   "outputs": [],
   "source": [
    "def indices_of_top_k(arr, k):\n",
    "    return np.sort(np.argpartition(np.array(arr), -k)[-k:])\n",
    "\n",
    "class TopFeatureSelector(BaseEstimator, TransformerMixin):\n",
    "    def __init__(self, feature_importances, k):\n",
    "        self.feature_importances = feature_importances\n",
    "        self.k = k\n",
    "    def fit(self, X, y=None):\n",
    "        self.feature_indices_ = indices_of_top_k(self.feature_importances, self.k)\n",
    "        return self\n",
    "    def transform(self, X):\n",
    "        if type(X) == pd.DataFrame:\n",
    "            return X.iloc[:, self.feature_indices_]     \n",
    "        else:\n",
    "            return X[:, self.feature_indices_]     "
   ]
  },
  {
   "cell_type": "code",
   "execution_count": 21,
   "id": "678ad777-6dcf-4fa5-8047-f6f24166adaa",
   "metadata": {
    "tags": []
   },
   "outputs": [
    {
     "data": {
      "text/plain": [
       "array([0, 1, 2, 4, 5, 7])"
      ]
     },
     "execution_count": 21,
     "metadata": {},
     "output_type": "execute_result"
    }
   ],
   "source": [
    "k = 6\n",
    "top_k_feature_indices = indices_of_top_k(feature_importances, k)\n",
    "top_k_feature_indices"
   ]
  },
  {
   "cell_type": "code",
   "execution_count": 22,
   "id": "0fe9a8e9-1e7b-48e3-bb73-0f09e74c0772",
   "metadata": {
    "tags": []
   },
   "outputs": [
    {
     "data": {
      "text/plain": [
       "[(0.5125263649773646, 'median_income'),\n",
       " (0.16398902857643427, 'longitude'),\n",
       " (0.15513341213575313, 'latitude'),\n",
       " (0.06377647537349658, 'housing_median_age'),\n",
       " (0.03387534325970874, 'population'),\n",
       " (0.02527431079973757, 'total_bedrooms'),\n",
       " (0.02433755920827869, 'total_rooms'),\n",
       " (0.02016329367583948, 'households'),\n",
       " (0.0009242119933869711, 'income_cat')]"
      ]
     },
     "execution_count": 22,
     "metadata": {},
     "output_type": "execute_result"
    }
   ],
   "source": [
    "sorted(zip(feature_importances, column_names.to_list()), reverse=True)"
   ]
  },
  {
   "cell_type": "markdown",
   "id": "06d56568-8e86-4e84-b6ff-9d2eb0260744",
   "metadata": {},
   "source": [
    "Try adding a transformer in the preparation pipeline to select only the most important attributes."
   ]
  },
  {
   "cell_type": "code",
   "execution_count": 23,
   "id": "ab5a8ae3-e8ab-4776-bcf9-22124a8506e7",
   "metadata": {
    "tags": []
   },
   "outputs": [],
   "source": [
    "k = 6\n",
    "preparation_and_feature_selection_pipeline = Pipeline([\n",
    "    ('imputer', SimpleImputer(strategy=\"mean\")),\n",
    "    ('feature_selection', TopFeatureSelector(feature_importances, k))\n",
    "])"
   ]
  },
  {
   "cell_type": "code",
   "execution_count": 24,
   "id": "7a378cc1-99f9-40e7-8ef6-d6238214f84c",
   "metadata": {
    "tags": []
   },
   "outputs": [],
   "source": [
    "housing_prepared_top_k_features = preparation_and_feature_selection_pipeline.fit(housing__)"
   ]
  },
  {
   "cell_type": "code",
   "execution_count": 25,
   "id": "d50994da-e141-4ee7-ad92-2b281661051f",
   "metadata": {
    "tags": []
   },
   "outputs": [
    {
     "data": {
      "text/plain": [
       "array([[-1.2223e+02,  3.7880e+01,  4.1000e+01,  1.2900e+02,  3.2200e+02,\n",
       "         8.3252e+00],\n",
       "       [-1.2222e+02,  3.7860e+01,  2.1000e+01,  1.1060e+03,  2.4010e+03,\n",
       "         8.3014e+00],\n",
       "       [-1.2224e+02,  3.7850e+01,  5.2000e+01,  1.9000e+02,  4.9600e+02,\n",
       "         7.2574e+00],\n",
       "       ...,\n",
       "       [-1.2122e+02,  3.9430e+01,  1.7000e+01,  4.8500e+02,  1.0070e+03,\n",
       "         1.7000e+00],\n",
       "       [-1.2132e+02,  3.9430e+01,  1.8000e+01,  4.0900e+02,  7.4100e+02,\n",
       "         1.8672e+00],\n",
       "       [-1.2124e+02,  3.9370e+01,  1.6000e+01,  6.1600e+02,  1.3870e+03,\n",
       "         2.3886e+00]])"
      ]
     },
     "execution_count": 25,
     "metadata": {},
     "output_type": "execute_result"
    }
   ],
   "source": [
    "housing_prepared_top_k_features.transform(housing__)"
   ]
  },
  {
   "cell_type": "code",
   "execution_count": 26,
   "id": "8c2efb36-e0dd-40fe-ae63-62f826f7e076",
   "metadata": {
    "tags": []
   },
   "outputs": [
    {
     "data": {
      "text/plain": [
       "10"
      ]
     },
     "execution_count": 26,
     "metadata": {},
     "output_type": "execute_result"
    }
   ],
   "source": [
    "len(housing.columns)"
   ]
  },
  {
   "cell_type": "code",
   "execution_count": 27,
   "id": "182afba0-518a-40cf-b104-7524061f0b3c",
   "metadata": {
    "tags": []
   },
   "outputs": [
    {
     "data": {
      "text/html": [
       "<style>#sk-container-id-5 {color: black;background-color: white;}#sk-container-id-5 pre{padding: 0;}#sk-container-id-5 div.sk-toggleable {background-color: white;}#sk-container-id-5 label.sk-toggleable__label {cursor: pointer;display: block;width: 100%;margin-bottom: 0;padding: 0.3em;box-sizing: border-box;text-align: center;}#sk-container-id-5 label.sk-toggleable__label-arrow:before {content: \"▸\";float: left;margin-right: 0.25em;color: #696969;}#sk-container-id-5 label.sk-toggleable__label-arrow:hover:before {color: black;}#sk-container-id-5 div.sk-estimator:hover label.sk-toggleable__label-arrow:before {color: black;}#sk-container-id-5 div.sk-toggleable__content {max-height: 0;max-width: 0;overflow: hidden;text-align: left;background-color: #f0f8ff;}#sk-container-id-5 div.sk-toggleable__content pre {margin: 0.2em;color: black;border-radius: 0.25em;background-color: #f0f8ff;}#sk-container-id-5 input.sk-toggleable__control:checked~div.sk-toggleable__content {max-height: 200px;max-width: 100%;overflow: auto;}#sk-container-id-5 input.sk-toggleable__control:checked~label.sk-toggleable__label-arrow:before {content: \"▾\";}#sk-container-id-5 div.sk-estimator input.sk-toggleable__control:checked~label.sk-toggleable__label {background-color: #d4ebff;}#sk-container-id-5 div.sk-label input.sk-toggleable__control:checked~label.sk-toggleable__label {background-color: #d4ebff;}#sk-container-id-5 input.sk-hidden--visually {border: 0;clip: rect(1px 1px 1px 1px);clip: rect(1px, 1px, 1px, 1px);height: 1px;margin: -1px;overflow: hidden;padding: 0;position: absolute;width: 1px;}#sk-container-id-5 div.sk-estimator {font-family: monospace;background-color: #f0f8ff;border: 1px dotted black;border-radius: 0.25em;box-sizing: border-box;margin-bottom: 0.5em;}#sk-container-id-5 div.sk-estimator:hover {background-color: #d4ebff;}#sk-container-id-5 div.sk-parallel-item::after {content: \"\";width: 100%;border-bottom: 1px solid gray;flex-grow: 1;}#sk-container-id-5 div.sk-label:hover label.sk-toggleable__label {background-color: #d4ebff;}#sk-container-id-5 div.sk-serial::before {content: \"\";position: absolute;border-left: 1px solid gray;box-sizing: border-box;top: 0;bottom: 0;left: 50%;z-index: 0;}#sk-container-id-5 div.sk-serial {display: flex;flex-direction: column;align-items: center;background-color: white;padding-right: 0.2em;padding-left: 0.2em;position: relative;}#sk-container-id-5 div.sk-item {position: relative;z-index: 1;}#sk-container-id-5 div.sk-parallel {display: flex;align-items: stretch;justify-content: center;background-color: white;position: relative;}#sk-container-id-5 div.sk-item::before, #sk-container-id-5 div.sk-parallel-item::before {content: \"\";position: absolute;border-left: 1px solid gray;box-sizing: border-box;top: 0;bottom: 0;left: 50%;z-index: -1;}#sk-container-id-5 div.sk-parallel-item {display: flex;flex-direction: column;z-index: 1;position: relative;background-color: white;}#sk-container-id-5 div.sk-parallel-item:first-child::after {align-self: flex-end;width: 50%;}#sk-container-id-5 div.sk-parallel-item:last-child::after {align-self: flex-start;width: 50%;}#sk-container-id-5 div.sk-parallel-item:only-child::after {width: 0;}#sk-container-id-5 div.sk-dashed-wrapped {border: 1px dashed gray;margin: 0 0.4em 0.5em 0.4em;box-sizing: border-box;padding-bottom: 0.4em;background-color: white;}#sk-container-id-5 div.sk-label label {font-family: monospace;font-weight: bold;display: inline-block;line-height: 1.2em;}#sk-container-id-5 div.sk-label-container {text-align: center;}#sk-container-id-5 div.sk-container {/* jupyter's `normalize.less` sets `[hidden] { display: none; }` but bootstrap.min.css set `[hidden] { display: none !important; }` so we also need the `!important` here to be able to override the default hidden behavior on the sphinx rendered scikit-learn.org. See: https://github.com/scikit-learn/scikit-learn/issues/21755 */display: inline-block !important;position: relative;}#sk-container-id-5 div.sk-text-repr-fallback {display: none;}</style><div id=\"sk-container-id-5\" class=\"sk-top-container\"><div class=\"sk-text-repr-fallback\"><pre>Pipeline(steps=[(&#x27;imputer&#x27;, SimpleImputer()),\n",
       "                (&#x27;feature_selection&#x27;,\n",
       "                 TopFeatureSelector(feature_importances=array([0.16398903, 0.15513341, 0.06377648, 0.02433756, 0.02527431,\n",
       "       0.03387534, 0.02016329, 0.51252636, 0.00092421]),\n",
       "                                    k=6))])</pre><b>In a Jupyter environment, please rerun this cell to show the HTML representation or trust the notebook. <br />On GitHub, the HTML representation is unable to render, please try loading this page with nbviewer.org.</b></div><div class=\"sk-container\" hidden><div class=\"sk-item sk-dashed-wrapped\"><div class=\"sk-label-container\"><div class=\"sk-label sk-toggleable\"><input class=\"sk-toggleable__control sk-hidden--visually\" id=\"sk-estimator-id-9\" type=\"checkbox\" ><label for=\"sk-estimator-id-9\" class=\"sk-toggleable__label sk-toggleable__label-arrow\">Pipeline</label><div class=\"sk-toggleable__content\"><pre>Pipeline(steps=[(&#x27;imputer&#x27;, SimpleImputer()),\n",
       "                (&#x27;feature_selection&#x27;,\n",
       "                 TopFeatureSelector(feature_importances=array([0.16398903, 0.15513341, 0.06377648, 0.02433756, 0.02527431,\n",
       "       0.03387534, 0.02016329, 0.51252636, 0.00092421]),\n",
       "                                    k=6))])</pre></div></div></div><div class=\"sk-serial\"><div class=\"sk-item\"><div class=\"sk-estimator sk-toggleable\"><input class=\"sk-toggleable__control sk-hidden--visually\" id=\"sk-estimator-id-10\" type=\"checkbox\" ><label for=\"sk-estimator-id-10\" class=\"sk-toggleable__label sk-toggleable__label-arrow\">SimpleImputer</label><div class=\"sk-toggleable__content\"><pre>SimpleImputer()</pre></div></div></div><div class=\"sk-item\"><div class=\"sk-estimator sk-toggleable\"><input class=\"sk-toggleable__control sk-hidden--visually\" id=\"sk-estimator-id-11\" type=\"checkbox\" ><label for=\"sk-estimator-id-11\" class=\"sk-toggleable__label sk-toggleable__label-arrow\">TopFeatureSelector</label><div class=\"sk-toggleable__content\"><pre>TopFeatureSelector(feature_importances=array([0.16398903, 0.15513341, 0.06377648, 0.02433756, 0.02527431,\n",
       "       0.03387534, 0.02016329, 0.51252636, 0.00092421]),\n",
       "                   k=6)</pre></div></div></div></div></div></div></div>"
      ],
      "text/plain": [
       "Pipeline(steps=[('imputer', SimpleImputer()),\n",
       "                ('feature_selection',\n",
       "                 TopFeatureSelector(feature_importances=array([0.16398903, 0.15513341, 0.06377648, 0.02433756, 0.02527431,\n",
       "       0.03387534, 0.02016329, 0.51252636, 0.00092421]),\n",
       "                                    k=6))])"
      ]
     },
     "execution_count": 27,
     "metadata": {},
     "output_type": "execute_result"
    }
   ],
   "source": [
    "housing_prepared_top_k_features"
   ]
  },
  {
   "cell_type": "markdown",
   "id": "3bf1e885-057a-4f57-b67c-72302982c069",
   "metadata": {},
   "source": [
    "2nd Pipeline"
   ]
  },
  {
   "cell_type": "code",
   "execution_count": 28,
   "id": "9fa6c55f-34d5-47bd-8c5b-bf373a4bab1b",
   "metadata": {
    "tags": []
   },
   "outputs": [],
   "source": [
    "housing_ = housing.copy()\n",
    "\n",
    "housing_[\"rooms_per_household\"] = (\n",
    "    housing_[\"total_rooms\"] / housing_[\"households\"]\n",
    ")\n",
    "housing_[\"bedrooms_per_room\"] = (\n",
    "    housing_[\"total_bedrooms\"] / housing_[\"total_rooms\"]\n",
    ")\n",
    "housing_[\"population_per_household\"] = (\n",
    "    housing_[\"population\"] / housing_[\"households\"]\n",
    ")\n",
    "\n",
    "housing_ = housing_.join(pd.get_dummies(housing[[\"ocean_proximity\"]], drop_first=True))\n",
    "housing_.drop(\"ocean_proximity\", inplace=True, axis=1)\n",
    "\n"
   ]
  },
  {
   "cell_type": "code",
   "execution_count": 29,
   "id": "d66e964c-523e-4b7c-a58e-d3fd49a68e49",
   "metadata": {
    "tags": []
   },
   "outputs": [],
   "source": [
    "SI = SimpleImputer(strategy=\"mean\")\n",
    "housing_ = SI.fit_transform(housing_)"
   ]
  },
  {
   "cell_type": "code",
   "execution_count": 30,
   "id": "d9f0c0b2-c67f-4b91-885c-4eca0838bdd2",
   "metadata": {
    "tags": []
   },
   "outputs": [],
   "source": [
    "rfr = RandomForestRegressor(random_state= random_state)\n",
    "rfr.fit(housing_, labels)\n",
    "feature_importances = rfr.feature_importances_"
   ]
  },
  {
   "cell_type": "code",
   "execution_count": 31,
   "id": "1201039e-fd88-4408-bffb-73b83faff946",
   "metadata": {
    "tags": []
   },
   "outputs": [
    {
     "data": {
      "text/plain": [
       "array([6.09947927e-02, 5.74575556e-02, 4.32611864e-02, 1.25015583e-02,\n",
       "       1.19138601e-02, 1.14673664e-02, 1.05600835e-02, 4.74095613e-01,\n",
       "       5.79357146e-04, 2.62099817e-02, 2.48643198e-02, 1.20366526e-01,\n",
       "       1.41930612e-01, 1.50743929e-04, 6.98718263e-04, 2.94772516e-03])"
      ]
     },
     "execution_count": 31,
     "metadata": {},
     "output_type": "execute_result"
    }
   ],
   "source": [
    "feature_importances"
   ]
  },
  {
   "cell_type": "markdown",
   "id": "9b847962-2326-4dfc-a54d-3ba6532e8274",
   "metadata": {},
   "source": [
    "Try creating a single pipeline that does the full data preparation plus the final prediction."
   ]
  },
  {
   "cell_type": "markdown",
   "id": "2b37efd0-fa56-42c2-a884-d9612ba34317",
   "metadata": {},
   "source": [
    "Refactor your ML code to use sklearn pipeline. Create a custom transformer for the new features (i.e. rooms_per_household, bedrooms_per_room, population_per_household) generated in your code"
   ]
  },
  {
   "cell_type": "code",
   "execution_count": 32,
   "id": "e72a69c8-19ba-40bf-8b9c-87b4427138ce",
   "metadata": {
    "tags": []
   },
   "outputs": [],
   "source": [
    "class CustomTransformer(BaseEstimator, TransformerMixin):\n",
    "    def __init__(self, features, labels = None):\n",
    "        self.features = features\n",
    "        self.labels = labels\n",
    "        \n",
    "    def fit(self, X, y=None):\n",
    "        return self  # nothing else to do\n",
    "    \n",
    "    def transform(self, features):\n",
    "        features[\"rooms_per_household\"] = (\n",
    "            features[\"total_rooms\"] / features[\"households\"]\n",
    "        )\n",
    "        features[\"bedrooms_per_room\"] = (\n",
    "            features[\"total_bedrooms\"] / features[\"total_rooms\"]\n",
    "        )\n",
    "        features[\"population_per_household\"] = (\n",
    "            features[\"population\"] / features[\"households\"]\n",
    "        )\n",
    "\n",
    "        if \"ocean_proximity\" in features.columns:\n",
    "            features = features.join(pd.get_dummies(features[[\"ocean_proximity\"]], drop_first=True))\n",
    "            features.drop(\"ocean_proximity\", inplace=True, axis=1)\n",
    "\n",
    "        return features"
   ]
  },
  {
   "cell_type": "code",
   "execution_count": 33,
   "id": "dadd1667-0e88-4e67-9cc2-cfacadcca8f5",
   "metadata": {
    "tags": []
   },
   "outputs": [],
   "source": [
    "k = 6\n",
    "feature_eng = Pipeline([\n",
    "    ('column_tranformation', CustomTransformer(housing, labels)),\n",
    "    ('imputer', SimpleImputer(strategy=\"median\")),\n",
    "    ('feature_selection', TopFeatureSelector(feature_importances, k)),\n",
    "])\n",
    "model_new = Pipeline([\n",
    "        (\"feature\", feature_eng),\n",
    "        ('svm_reg', SVR(kernel= 'linear', C= 3.0)),\n",
    "])\n"
   ]
  },
  {
   "cell_type": "code",
   "execution_count": 34,
   "id": "ddf2e319-656e-4bbd-bfe3-6fd2b5c848a5",
   "metadata": {
    "tags": []
   },
   "outputs": [
    {
     "data": {
      "text/html": [
       "<style>#sk-container-id-6 {color: black;background-color: white;}#sk-container-id-6 pre{padding: 0;}#sk-container-id-6 div.sk-toggleable {background-color: white;}#sk-container-id-6 label.sk-toggleable__label {cursor: pointer;display: block;width: 100%;margin-bottom: 0;padding: 0.3em;box-sizing: border-box;text-align: center;}#sk-container-id-6 label.sk-toggleable__label-arrow:before {content: \"▸\";float: left;margin-right: 0.25em;color: #696969;}#sk-container-id-6 label.sk-toggleable__label-arrow:hover:before {color: black;}#sk-container-id-6 div.sk-estimator:hover label.sk-toggleable__label-arrow:before {color: black;}#sk-container-id-6 div.sk-toggleable__content {max-height: 0;max-width: 0;overflow: hidden;text-align: left;background-color: #f0f8ff;}#sk-container-id-6 div.sk-toggleable__content pre {margin: 0.2em;color: black;border-radius: 0.25em;background-color: #f0f8ff;}#sk-container-id-6 input.sk-toggleable__control:checked~div.sk-toggleable__content {max-height: 200px;max-width: 100%;overflow: auto;}#sk-container-id-6 input.sk-toggleable__control:checked~label.sk-toggleable__label-arrow:before {content: \"▾\";}#sk-container-id-6 div.sk-estimator input.sk-toggleable__control:checked~label.sk-toggleable__label {background-color: #d4ebff;}#sk-container-id-6 div.sk-label input.sk-toggleable__control:checked~label.sk-toggleable__label {background-color: #d4ebff;}#sk-container-id-6 input.sk-hidden--visually {border: 0;clip: rect(1px 1px 1px 1px);clip: rect(1px, 1px, 1px, 1px);height: 1px;margin: -1px;overflow: hidden;padding: 0;position: absolute;width: 1px;}#sk-container-id-6 div.sk-estimator {font-family: monospace;background-color: #f0f8ff;border: 1px dotted black;border-radius: 0.25em;box-sizing: border-box;margin-bottom: 0.5em;}#sk-container-id-6 div.sk-estimator:hover {background-color: #d4ebff;}#sk-container-id-6 div.sk-parallel-item::after {content: \"\";width: 100%;border-bottom: 1px solid gray;flex-grow: 1;}#sk-container-id-6 div.sk-label:hover label.sk-toggleable__label {background-color: #d4ebff;}#sk-container-id-6 div.sk-serial::before {content: \"\";position: absolute;border-left: 1px solid gray;box-sizing: border-box;top: 0;bottom: 0;left: 50%;z-index: 0;}#sk-container-id-6 div.sk-serial {display: flex;flex-direction: column;align-items: center;background-color: white;padding-right: 0.2em;padding-left: 0.2em;position: relative;}#sk-container-id-6 div.sk-item {position: relative;z-index: 1;}#sk-container-id-6 div.sk-parallel {display: flex;align-items: stretch;justify-content: center;background-color: white;position: relative;}#sk-container-id-6 div.sk-item::before, #sk-container-id-6 div.sk-parallel-item::before {content: \"\";position: absolute;border-left: 1px solid gray;box-sizing: border-box;top: 0;bottom: 0;left: 50%;z-index: -1;}#sk-container-id-6 div.sk-parallel-item {display: flex;flex-direction: column;z-index: 1;position: relative;background-color: white;}#sk-container-id-6 div.sk-parallel-item:first-child::after {align-self: flex-end;width: 50%;}#sk-container-id-6 div.sk-parallel-item:last-child::after {align-self: flex-start;width: 50%;}#sk-container-id-6 div.sk-parallel-item:only-child::after {width: 0;}#sk-container-id-6 div.sk-dashed-wrapped {border: 1px dashed gray;margin: 0 0.4em 0.5em 0.4em;box-sizing: border-box;padding-bottom: 0.4em;background-color: white;}#sk-container-id-6 div.sk-label label {font-family: monospace;font-weight: bold;display: inline-block;line-height: 1.2em;}#sk-container-id-6 div.sk-label-container {text-align: center;}#sk-container-id-6 div.sk-container {/* jupyter's `normalize.less` sets `[hidden] { display: none; }` but bootstrap.min.css set `[hidden] { display: none !important; }` so we also need the `!important` here to be able to override the default hidden behavior on the sphinx rendered scikit-learn.org. See: https://github.com/scikit-learn/scikit-learn/issues/21755 */display: inline-block !important;position: relative;}#sk-container-id-6 div.sk-text-repr-fallback {display: none;}</style><div id=\"sk-container-id-6\" class=\"sk-top-container\"><div class=\"sk-text-repr-fallback\"><pre>Pipeline(steps=[(&#x27;feature&#x27;,\n",
       "                 Pipeline(steps=[(&#x27;column_tranformation&#x27;,\n",
       "                                  CustomTransformer(features=       longitude  latitude  housing_median_age  total_rooms  total_bedrooms  \\\n",
       "0        -122.23     37.88                41.0        880.0           129.0   \n",
       "1        -122.22     37.86                21.0       7099.0          1106.0   \n",
       "2        -122.24     37.85                52.0       1467.0           190.0   \n",
       "3        -122.25     37.85                52.0       1274.0           235.0   \n",
       "4        -122.25     37.85                52.0       1627.0           280.0   \n",
       "...          ...       ...                 ...          ...             ...   \n",
       "20635    -121.09     39.48                25.0       1665.0           374.0   \n",
       "20636...\n",
       "                                 (&#x27;feature_selection&#x27;,\n",
       "                                  TopFeatureSelector(feature_importances=array([6.09947927e-02, 5.74575556e-02, 4.32611864e-02, 1.25015583e-02,\n",
       "       1.19138601e-02, 1.14673664e-02, 1.05600835e-02, 4.74095613e-01,\n",
       "       5.79357146e-04, 2.62099817e-02, 2.48643198e-02, 1.20366526e-01,\n",
       "       1.41930612e-01, 1.50743929e-04, 6.98718263e-04, 2.94772516e-03]),\n",
       "                                                     k=6))])),\n",
       "                (&#x27;svm_reg&#x27;, SVR(C=3.0, kernel=&#x27;linear&#x27;))])</pre><b>In a Jupyter environment, please rerun this cell to show the HTML representation or trust the notebook. <br />On GitHub, the HTML representation is unable to render, please try loading this page with nbviewer.org.</b></div><div class=\"sk-container\" hidden><div class=\"sk-item sk-dashed-wrapped\"><div class=\"sk-label-container\"><div class=\"sk-label sk-toggleable\"><input class=\"sk-toggleable__control sk-hidden--visually\" id=\"sk-estimator-id-12\" type=\"checkbox\" ><label for=\"sk-estimator-id-12\" class=\"sk-toggleable__label sk-toggleable__label-arrow\">Pipeline</label><div class=\"sk-toggleable__content\"><pre>Pipeline(steps=[(&#x27;feature&#x27;,\n",
       "                 Pipeline(steps=[(&#x27;column_tranformation&#x27;,\n",
       "                                  CustomTransformer(features=       longitude  latitude  housing_median_age  total_rooms  total_bedrooms  \\\n",
       "0        -122.23     37.88                41.0        880.0           129.0   \n",
       "1        -122.22     37.86                21.0       7099.0          1106.0   \n",
       "2        -122.24     37.85                52.0       1467.0           190.0   \n",
       "3        -122.25     37.85                52.0       1274.0           235.0   \n",
       "4        -122.25     37.85                52.0       1627.0           280.0   \n",
       "...          ...       ...                 ...          ...             ...   \n",
       "20635    -121.09     39.48                25.0       1665.0           374.0   \n",
       "20636...\n",
       "                                 (&#x27;feature_selection&#x27;,\n",
       "                                  TopFeatureSelector(feature_importances=array([6.09947927e-02, 5.74575556e-02, 4.32611864e-02, 1.25015583e-02,\n",
       "       1.19138601e-02, 1.14673664e-02, 1.05600835e-02, 4.74095613e-01,\n",
       "       5.79357146e-04, 2.62099817e-02, 2.48643198e-02, 1.20366526e-01,\n",
       "       1.41930612e-01, 1.50743929e-04, 6.98718263e-04, 2.94772516e-03]),\n",
       "                                                     k=6))])),\n",
       "                (&#x27;svm_reg&#x27;, SVR(C=3.0, kernel=&#x27;linear&#x27;))])</pre></div></div></div><div class=\"sk-serial\"><div class=\"sk-item\"><div class=\"sk-label-container\"><div class=\"sk-label sk-toggleable\"><input class=\"sk-toggleable__control sk-hidden--visually\" id=\"sk-estimator-id-13\" type=\"checkbox\" ><label for=\"sk-estimator-id-13\" class=\"sk-toggleable__label sk-toggleable__label-arrow\">feature: Pipeline</label><div class=\"sk-toggleable__content\"><pre>Pipeline(steps=[(&#x27;column_tranformation&#x27;,\n",
       "                 CustomTransformer(features=       longitude  latitude  housing_median_age  total_rooms  total_bedrooms  \\\n",
       "0        -122.23     37.88                41.0        880.0           129.0   \n",
       "1        -122.22     37.86                21.0       7099.0          1106.0   \n",
       "2        -122.24     37.85                52.0       1467.0           190.0   \n",
       "3        -122.25     37.85                52.0       1274.0           235.0   \n",
       "4        -122.25     37.85                52.0       1627.0           280.0   \n",
       "...          ...       ...                 ...          ...             ...   \n",
       "20635    -121.09     39.48                25.0       1665.0           374.0   \n",
       "20636    -121.21     39.49                18.0        697.0           150.0   \n",
       "2...\n",
       "                (&#x27;imputer&#x27;, SimpleImputer(strategy=&#x27;median&#x27;)),\n",
       "                (&#x27;feature_selection&#x27;,\n",
       "                 TopFeatureSelector(feature_importances=array([6.09947927e-02, 5.74575556e-02, 4.32611864e-02, 1.25015583e-02,\n",
       "       1.19138601e-02, 1.14673664e-02, 1.05600835e-02, 4.74095613e-01,\n",
       "       5.79357146e-04, 2.62099817e-02, 2.48643198e-02, 1.20366526e-01,\n",
       "       1.41930612e-01, 1.50743929e-04, 6.98718263e-04, 2.94772516e-03]),\n",
       "                                    k=6))])</pre></div></div></div><div class=\"sk-serial\"><div class=\"sk-item\"><div class=\"sk-estimator sk-toggleable\"><input class=\"sk-toggleable__control sk-hidden--visually\" id=\"sk-estimator-id-14\" type=\"checkbox\" ><label for=\"sk-estimator-id-14\" class=\"sk-toggleable__label sk-toggleable__label-arrow\">CustomTransformer</label><div class=\"sk-toggleable__content\"><pre>CustomTransformer(features=       longitude  latitude  housing_median_age  total_rooms  total_bedrooms  \\\n",
       "0        -122.23     37.88                41.0        880.0           129.0   \n",
       "1        -122.22     37.86                21.0       7099.0          1106.0   \n",
       "2        -122.24     37.85                52.0       1467.0           190.0   \n",
       "3        -122.25     37.85                52.0       1274.0           235.0   \n",
       "4        -122.25     37.85                52.0       1627.0           280.0   \n",
       "...          ...       ...                 ...          ...             ...   \n",
       "20635    -121.09     39.48                25.0       1665.0           374.0   \n",
       "20636    -121.21     39.49                18.0        697.0           150.0   \n",
       "20637    -121.22     39.43                17.0       2254.0           485.0   \n",
       "20638    -121...\n",
       "4                 6.281853           0.172096                  2.181467  \n",
       "...                    ...                ...                       ...  \n",
       "20635             5.045455           0.224625                  2.560606  \n",
       "20636             6.114035           0.215208                  3.122807  \n",
       "20637             5.205543           0.215173                  2.325635  \n",
       "20638             5.329513           0.219892                  2.123209  \n",
       "20639             5.254717           0.221185                  2.616981  \n",
       "\n",
       "[20640 rows x 13 columns],\n",
       "                  labels=0        452600.0\n",
       "1        358500.0\n",
       "2        352100.0\n",
       "3        341300.0\n",
       "4        342200.0\n",
       "           ...   \n",
       "20635     78100.0\n",
       "20636     77100.0\n",
       "20637     92300.0\n",
       "20638     84700.0\n",
       "20639     89400.0\n",
       "Name: median_house_value, Length: 20640, dtype: float64)</pre></div></div></div><div class=\"sk-item\"><div class=\"sk-estimator sk-toggleable\"><input class=\"sk-toggleable__control sk-hidden--visually\" id=\"sk-estimator-id-15\" type=\"checkbox\" ><label for=\"sk-estimator-id-15\" class=\"sk-toggleable__label sk-toggleable__label-arrow\">SimpleImputer</label><div class=\"sk-toggleable__content\"><pre>SimpleImputer(strategy=&#x27;median&#x27;)</pre></div></div></div><div class=\"sk-item\"><div class=\"sk-estimator sk-toggleable\"><input class=\"sk-toggleable__control sk-hidden--visually\" id=\"sk-estimator-id-16\" type=\"checkbox\" ><label for=\"sk-estimator-id-16\" class=\"sk-toggleable__label sk-toggleable__label-arrow\">TopFeatureSelector</label><div class=\"sk-toggleable__content\"><pre>TopFeatureSelector(feature_importances=array([6.09947927e-02, 5.74575556e-02, 4.32611864e-02, 1.25015583e-02,\n",
       "       1.19138601e-02, 1.14673664e-02, 1.05600835e-02, 4.74095613e-01,\n",
       "       5.79357146e-04, 2.62099817e-02, 2.48643198e-02, 1.20366526e-01,\n",
       "       1.41930612e-01, 1.50743929e-04, 6.98718263e-04, 2.94772516e-03]),\n",
       "                   k=6)</pre></div></div></div></div></div><div class=\"sk-item\"><div class=\"sk-estimator sk-toggleable\"><input class=\"sk-toggleable__control sk-hidden--visually\" id=\"sk-estimator-id-17\" type=\"checkbox\" ><label for=\"sk-estimator-id-17\" class=\"sk-toggleable__label sk-toggleable__label-arrow\">SVR</label><div class=\"sk-toggleable__content\"><pre>SVR(C=3.0, kernel=&#x27;linear&#x27;)</pre></div></div></div></div></div></div></div>"
      ],
      "text/plain": [
       "Pipeline(steps=[('feature',\n",
       "                 Pipeline(steps=[('column_tranformation',\n",
       "                                  CustomTransformer(features=       longitude  latitude  housing_median_age  total_rooms  total_bedrooms  \\\n",
       "0        -122.23     37.88                41.0        880.0           129.0   \n",
       "1        -122.22     37.86                21.0       7099.0          1106.0   \n",
       "2        -122.24     37.85                52.0       1467.0           190.0   \n",
       "3        -122.25     37.85                52.0       1274.0           235.0   \n",
       "4        -122.25     37.85                52.0       1627.0           280.0   \n",
       "...          ...       ...                 ...          ...             ...   \n",
       "20635    -121.09     39.48                25.0       1665.0           374.0   \n",
       "20636...\n",
       "                                 ('feature_selection',\n",
       "                                  TopFeatureSelector(feature_importances=array([6.09947927e-02, 5.74575556e-02, 4.32611864e-02, 1.25015583e-02,\n",
       "       1.19138601e-02, 1.14673664e-02, 1.05600835e-02, 4.74095613e-01,\n",
       "       5.79357146e-04, 2.62099817e-02, 2.48643198e-02, 1.20366526e-01,\n",
       "       1.41930612e-01, 1.50743929e-04, 6.98718263e-04, 2.94772516e-03]),\n",
       "                                                     k=6))])),\n",
       "                ('svm_reg', SVR(C=3.0, kernel='linear'))])"
      ]
     },
     "execution_count": 34,
     "metadata": {},
     "output_type": "execute_result"
    }
   ],
   "source": [
    "model_new.fit(housing, labels)"
   ]
  },
  {
   "cell_type": "code",
   "execution_count": 35,
   "id": "dfc981b9-ca4e-460c-b3f1-cec5440b6d0d",
   "metadata": {
    "tags": []
   },
   "outputs": [
    {
     "data": {
      "text/plain": [
       "array([336303.81526647, 320327.60732188, 313084.04237098, ...,\n",
       "        84687.23120002,  92019.83559623, 104294.45324015])"
      ]
     },
     "execution_count": 35,
     "metadata": {},
     "output_type": "execute_result"
    }
   ],
   "source": [
    "model_new.predict(housing)"
   ]
  },
  {
   "cell_type": "code",
   "execution_count": 36,
   "id": "51d6a7f4-8b33-4d89-9253-ea4e8b276557",
   "metadata": {
    "collapsed": true,
    "jupyter": {
     "outputs_hidden": true
    },
    "tags": []
   },
   "outputs": [
    {
     "name": "stdout",
     "output_type": "stream",
     "text": [
      "Fitting 5 folds for each of 48 candidates, totalling 240 fits\n",
      "[CV] END feature__feature_selection__k=1, feature__imputer__strategy=mean; total time=   4.7s\n",
      "[CV] END feature__feature_selection__k=1, feature__imputer__strategy=mean; total time=   4.5s\n",
      "[CV] END feature__feature_selection__k=1, feature__imputer__strategy=mean; total time=   5.1s\n",
      "[CV] END feature__feature_selection__k=1, feature__imputer__strategy=mean; total time=   5.0s\n",
      "[CV] END feature__feature_selection__k=1, feature__imputer__strategy=mean; total time=   5.1s\n",
      "[CV] END feature__feature_selection__k=1, feature__imputer__strategy=median; total time=   5.0s\n",
      "[CV] END feature__feature_selection__k=1, feature__imputer__strategy=median; total time=   5.3s\n",
      "[CV] END feature__feature_selection__k=1, feature__imputer__strategy=median; total time=   5.1s\n",
      "[CV] END feature__feature_selection__k=1, feature__imputer__strategy=median; total time=   5.2s\n",
      "[CV] END feature__feature_selection__k=1, feature__imputer__strategy=median; total time=   4.7s\n",
      "[CV] END feature__feature_selection__k=1, feature__imputer__strategy=most_frequent; total time=   4.8s\n",
      "[CV] END feature__feature_selection__k=1, feature__imputer__strategy=most_frequent; total time=   6.4s\n",
      "[CV] END feature__feature_selection__k=1, feature__imputer__strategy=most_frequent; total time=   4.9s\n",
      "[CV] END feature__feature_selection__k=1, feature__imputer__strategy=most_frequent; total time=   4.8s\n",
      "[CV] END feature__feature_selection__k=1, feature__imputer__strategy=most_frequent; total time=   5.0s\n",
      "[CV] END feature__feature_selection__k=2, feature__imputer__strategy=mean; total time=   5.1s\n",
      "[CV] END feature__feature_selection__k=2, feature__imputer__strategy=mean; total time=   5.3s\n",
      "[CV] END feature__feature_selection__k=2, feature__imputer__strategy=mean; total time=   5.5s\n",
      "[CV] END feature__feature_selection__k=2, feature__imputer__strategy=mean; total time=   5.1s\n",
      "[CV] END feature__feature_selection__k=2, feature__imputer__strategy=mean; total time=   4.9s\n",
      "[CV] END feature__feature_selection__k=2, feature__imputer__strategy=median; total time=   4.9s\n",
      "[CV] END feature__feature_selection__k=2, feature__imputer__strategy=median; total time=   4.9s\n",
      "[CV] END feature__feature_selection__k=2, feature__imputer__strategy=median; total time=   4.9s\n",
      "[CV] END feature__feature_selection__k=2, feature__imputer__strategy=median; total time=   5.0s\n",
      "[CV] END feature__feature_selection__k=2, feature__imputer__strategy=median; total time=   5.0s\n",
      "[CV] END feature__feature_selection__k=2, feature__imputer__strategy=most_frequent; total time=   4.9s\n",
      "[CV] END feature__feature_selection__k=2, feature__imputer__strategy=most_frequent; total time=   4.9s\n",
      "[CV] END feature__feature_selection__k=2, feature__imputer__strategy=most_frequent; total time=   4.8s\n",
      "[CV] END feature__feature_selection__k=2, feature__imputer__strategy=most_frequent; total time=   4.8s\n",
      "[CV] END feature__feature_selection__k=2, feature__imputer__strategy=most_frequent; total time=   4.8s\n",
      "[CV] END feature__feature_selection__k=3, feature__imputer__strategy=mean; total time=   5.2s\n",
      "[CV] END feature__feature_selection__k=3, feature__imputer__strategy=mean; total time=   5.2s\n",
      "[CV] END feature__feature_selection__k=3, feature__imputer__strategy=mean; total time=   6.0s\n",
      "[CV] END feature__feature_selection__k=3, feature__imputer__strategy=mean; total time=   5.3s\n",
      "[CV] END feature__feature_selection__k=3, feature__imputer__strategy=mean; total time=   5.1s\n",
      "[CV] END feature__feature_selection__k=3, feature__imputer__strategy=median; total time=   5.1s\n",
      "[CV] END feature__feature_selection__k=3, feature__imputer__strategy=median; total time=   5.4s\n",
      "[CV] END feature__feature_selection__k=3, feature__imputer__strategy=median; total time=   5.1s\n",
      "[CV] END feature__feature_selection__k=3, feature__imputer__strategy=median; total time=   5.1s\n",
      "[CV] END feature__feature_selection__k=3, feature__imputer__strategy=median; total time=   5.0s\n",
      "[CV] END feature__feature_selection__k=3, feature__imputer__strategy=most_frequent; total time=   5.0s\n",
      "[CV] END feature__feature_selection__k=3, feature__imputer__strategy=most_frequent; total time=   5.2s\n",
      "[CV] END feature__feature_selection__k=3, feature__imputer__strategy=most_frequent; total time=   5.2s\n",
      "[CV] END feature__feature_selection__k=3, feature__imputer__strategy=most_frequent; total time=   5.3s\n",
      "[CV] END feature__feature_selection__k=3, feature__imputer__strategy=most_frequent; total time=   5.0s\n",
      "[CV] END feature__feature_selection__k=4, feature__imputer__strategy=mean; total time=   5.4s\n",
      "[CV] END feature__feature_selection__k=4, feature__imputer__strategy=mean; total time=   5.5s\n",
      "[CV] END feature__feature_selection__k=4, feature__imputer__strategy=mean; total time=   5.4s\n",
      "[CV] END feature__feature_selection__k=4, feature__imputer__strategy=mean; total time=   5.4s\n",
      "[CV] END feature__feature_selection__k=4, feature__imputer__strategy=mean; total time=   5.4s\n",
      "[CV] END feature__feature_selection__k=4, feature__imputer__strategy=median; total time=   5.4s\n",
      "[CV] END feature__feature_selection__k=4, feature__imputer__strategy=median; total time=   5.4s\n",
      "[CV] END feature__feature_selection__k=4, feature__imputer__strategy=median; total time=   5.4s\n",
      "[CV] END feature__feature_selection__k=4, feature__imputer__strategy=median; total time=   5.5s\n",
      "[CV] END feature__feature_selection__k=4, feature__imputer__strategy=median; total time=   5.4s\n",
      "[CV] END feature__feature_selection__k=4, feature__imputer__strategy=most_frequent; total time=   5.4s\n",
      "[CV] END feature__feature_selection__k=4, feature__imputer__strategy=most_frequent; total time=   5.4s\n",
      "[CV] END feature__feature_selection__k=4, feature__imputer__strategy=most_frequent; total time=   5.6s\n",
      "[CV] END feature__feature_selection__k=4, feature__imputer__strategy=most_frequent; total time=   5.4s\n",
      "[CV] END feature__feature_selection__k=4, feature__imputer__strategy=most_frequent; total time=   5.4s\n",
      "[CV] END feature__feature_selection__k=5, feature__imputer__strategy=mean; total time=   5.6s\n",
      "[CV] END feature__feature_selection__k=5, feature__imputer__strategy=mean; total time=   5.4s\n",
      "[CV] END feature__feature_selection__k=5, feature__imputer__strategy=mean; total time=   5.5s\n",
      "[CV] END feature__feature_selection__k=5, feature__imputer__strategy=mean; total time=   5.5s\n",
      "[CV] END feature__feature_selection__k=5, feature__imputer__strategy=mean; total time=   6.2s\n",
      "[CV] END feature__feature_selection__k=5, feature__imputer__strategy=median; total time=   6.1s\n",
      "[CV] END feature__feature_selection__k=5, feature__imputer__strategy=median; total time=   5.9s\n",
      "[CV] END feature__feature_selection__k=5, feature__imputer__strategy=median; total time=   5.8s\n",
      "[CV] END feature__feature_selection__k=5, feature__imputer__strategy=median; total time=   5.7s\n",
      "[CV] END feature__feature_selection__k=5, feature__imputer__strategy=median; total time=   5.6s\n",
      "[CV] END feature__feature_selection__k=5, feature__imputer__strategy=most_frequent; total time=   5.6s\n",
      "[CV] END feature__feature_selection__k=5, feature__imputer__strategy=most_frequent; total time=   5.9s\n",
      "[CV] END feature__feature_selection__k=5, feature__imputer__strategy=most_frequent; total time=   5.5s\n",
      "[CV] END feature__feature_selection__k=5, feature__imputer__strategy=most_frequent; total time=   5.7s\n",
      "[CV] END feature__feature_selection__k=5, feature__imputer__strategy=most_frequent; total time=   5.6s\n",
      "[CV] END feature__feature_selection__k=6, feature__imputer__strategy=mean; total time=   5.4s\n",
      "[CV] END feature__feature_selection__k=6, feature__imputer__strategy=mean; total time=   5.5s\n",
      "[CV] END feature__feature_selection__k=6, feature__imputer__strategy=mean; total time=   5.4s\n",
      "[CV] END feature__feature_selection__k=6, feature__imputer__strategy=mean; total time=   5.5s\n",
      "[CV] END feature__feature_selection__k=6, feature__imputer__strategy=mean; total time=   5.3s\n",
      "[CV] END feature__feature_selection__k=6, feature__imputer__strategy=median; total time=   5.4s\n",
      "[CV] END feature__feature_selection__k=6, feature__imputer__strategy=median; total time=   5.4s\n",
      "[CV] END feature__feature_selection__k=6, feature__imputer__strategy=median; total time=   5.3s\n",
      "[CV] END feature__feature_selection__k=6, feature__imputer__strategy=median; total time=   5.5s\n",
      "[CV] END feature__feature_selection__k=6, feature__imputer__strategy=median; total time=   5.3s\n",
      "[CV] END feature__feature_selection__k=6, feature__imputer__strategy=most_frequent; total time=   5.3s\n",
      "[CV] END feature__feature_selection__k=6, feature__imputer__strategy=most_frequent; total time=   5.4s\n",
      "[CV] END feature__feature_selection__k=6, feature__imputer__strategy=most_frequent; total time=   5.5s\n",
      "[CV] END feature__feature_selection__k=6, feature__imputer__strategy=most_frequent; total time=   5.5s\n",
      "[CV] END feature__feature_selection__k=6, feature__imputer__strategy=most_frequent; total time=   5.3s\n",
      "[CV] END feature__feature_selection__k=7, feature__imputer__strategy=mean; total time=   5.5s\n",
      "[CV] END feature__feature_selection__k=7, feature__imputer__strategy=mean; total time=   5.4s\n",
      "[CV] END feature__feature_selection__k=7, feature__imputer__strategy=mean; total time=   5.3s\n",
      "[CV] END feature__feature_selection__k=7, feature__imputer__strategy=mean; total time=   5.3s\n",
      "[CV] END feature__feature_selection__k=7, feature__imputer__strategy=mean; total time=   5.5s\n",
      "[CV] END feature__feature_selection__k=7, feature__imputer__strategy=median; total time=   5.4s\n",
      "[CV] END feature__feature_selection__k=7, feature__imputer__strategy=median; total time=   5.3s\n",
      "[CV] END feature__feature_selection__k=7, feature__imputer__strategy=median; total time=   5.5s\n",
      "[CV] END feature__feature_selection__k=7, feature__imputer__strategy=median; total time=   5.5s\n",
      "[CV] END feature__feature_selection__k=7, feature__imputer__strategy=median; total time=   5.4s\n",
      "[CV] END feature__feature_selection__k=7, feature__imputer__strategy=most_frequent; total time=   5.4s\n",
      "[CV] END feature__feature_selection__k=7, feature__imputer__strategy=most_frequent; total time=   5.5s\n",
      "[CV] END feature__feature_selection__k=7, feature__imputer__strategy=most_frequent; total time=   5.4s\n",
      "[CV] END feature__feature_selection__k=7, feature__imputer__strategy=most_frequent; total time=   5.5s\n",
      "[CV] END feature__feature_selection__k=7, feature__imputer__strategy=most_frequent; total time=   5.4s\n",
      "[CV] END feature__feature_selection__k=8, feature__imputer__strategy=mean; total time=   5.4s\n",
      "[CV] END feature__feature_selection__k=8, feature__imputer__strategy=mean; total time=   5.6s\n",
      "[CV] END feature__feature_selection__k=8, feature__imputer__strategy=mean; total time=   5.5s\n",
      "[CV] END feature__feature_selection__k=8, feature__imputer__strategy=mean; total time=   5.5s\n",
      "[CV] END feature__feature_selection__k=8, feature__imputer__strategy=mean; total time=   5.5s\n",
      "[CV] END feature__feature_selection__k=8, feature__imputer__strategy=median; total time=   5.6s\n",
      "[CV] END feature__feature_selection__k=8, feature__imputer__strategy=median; total time=   5.5s\n",
      "[CV] END feature__feature_selection__k=8, feature__imputer__strategy=median; total time=   5.5s\n",
      "[CV] END feature__feature_selection__k=8, feature__imputer__strategy=median; total time=   5.5s\n",
      "[CV] END feature__feature_selection__k=8, feature__imputer__strategy=median; total time=   5.4s\n",
      "[CV] END feature__feature_selection__k=8, feature__imputer__strategy=most_frequent; total time=   5.6s\n",
      "[CV] END feature__feature_selection__k=8, feature__imputer__strategy=most_frequent; total time=   5.4s\n",
      "[CV] END feature__feature_selection__k=8, feature__imputer__strategy=most_frequent; total time=   5.5s\n",
      "[CV] END feature__feature_selection__k=8, feature__imputer__strategy=most_frequent; total time=   5.5s\n",
      "[CV] END feature__feature_selection__k=8, feature__imputer__strategy=most_frequent; total time=   5.5s\n",
      "[CV] END feature__feature_selection__k=9, feature__imputer__strategy=mean; total time=  51.2s\n",
      "[CV] END feature__feature_selection__k=9, feature__imputer__strategy=mean; total time= 1.0min\n",
      "[CV] END feature__feature_selection__k=9, feature__imputer__strategy=mean; total time=  51.0s\n",
      "[CV] END feature__feature_selection__k=9, feature__imputer__strategy=mean; total time=  50.5s\n",
      "[CV] END feature__feature_selection__k=9, feature__imputer__strategy=mean; total time=  53.3s\n",
      "[CV] END feature__feature_selection__k=9, feature__imputer__strategy=median; total time=  46.9s\n",
      "[CV] END feature__feature_selection__k=9, feature__imputer__strategy=median; total time= 1.0min\n",
      "[CV] END feature__feature_selection__k=9, feature__imputer__strategy=median; total time=  50.7s\n",
      "[CV] END feature__feature_selection__k=9, feature__imputer__strategy=median; total time=  52.0s\n",
      "[CV] END feature__feature_selection__k=9, feature__imputer__strategy=median; total time=  54.1s\n",
      "[CV] END feature__feature_selection__k=9, feature__imputer__strategy=most_frequent; total time=  46.3s\n",
      "[CV] END feature__feature_selection__k=9, feature__imputer__strategy=most_frequent; total time=  58.6s\n",
      "[CV] END feature__feature_selection__k=9, feature__imputer__strategy=most_frequent; total time=  56.2s\n",
      "[CV] END feature__feature_selection__k=9, feature__imputer__strategy=most_frequent; total time=  49.9s\n",
      "[CV] END feature__feature_selection__k=9, feature__imputer__strategy=most_frequent; total time=  53.2s\n",
      "[CV] END feature__feature_selection__k=10, feature__imputer__strategy=mean; total time=  56.9s\n",
      "[CV] END feature__feature_selection__k=10, feature__imputer__strategy=mean; total time= 1.1min\n",
      "[CV] END feature__feature_selection__k=10, feature__imputer__strategy=mean; total time= 1.1min\n",
      "[CV] END feature__feature_selection__k=10, feature__imputer__strategy=mean; total time=  54.0s\n",
      "[CV] END feature__feature_selection__k=10, feature__imputer__strategy=mean; total time= 1.0min\n",
      "[CV] END feature__feature_selection__k=10, feature__imputer__strategy=median; total time=  58.8s\n",
      "[CV] END feature__feature_selection__k=10, feature__imputer__strategy=median; total time= 1.2min\n",
      "[CV] END feature__feature_selection__k=10, feature__imputer__strategy=median; total time=  58.3s\n",
      "[CV] END feature__feature_selection__k=10, feature__imputer__strategy=median; total time= 1.1min\n",
      "[CV] END feature__feature_selection__k=10, feature__imputer__strategy=median; total time= 1.3min\n",
      "[CV] END feature__feature_selection__k=10, feature__imputer__strategy=most_frequent; total time= 1.2min\n",
      "[CV] END feature__feature_selection__k=10, feature__imputer__strategy=most_frequent; total time= 1.5min\n",
      "[CV] END feature__feature_selection__k=10, feature__imputer__strategy=most_frequent; total time= 1.3min\n",
      "[CV] END feature__feature_selection__k=10, feature__imputer__strategy=most_frequent; total time= 1.3min\n",
      "[CV] END feature__feature_selection__k=10, feature__imputer__strategy=most_frequent; total time= 1.1min\n",
      "[CV] END feature__feature_selection__k=11, feature__imputer__strategy=mean; total time= 1.6min\n",
      "[CV] END feature__feature_selection__k=11, feature__imputer__strategy=mean; total time= 2.1min\n",
      "[CV] END feature__feature_selection__k=11, feature__imputer__strategy=mean; total time= 1.7min\n",
      "[CV] END feature__feature_selection__k=11, feature__imputer__strategy=mean; total time= 1.8min\n",
      "[CV] END feature__feature_selection__k=11, feature__imputer__strategy=mean; total time= 1.9min\n",
      "[CV] END feature__feature_selection__k=11, feature__imputer__strategy=median; total time= 1.7min\n",
      "[CV] END feature__feature_selection__k=11, feature__imputer__strategy=median; total time= 1.9min\n",
      "[CV] END feature__feature_selection__k=11, feature__imputer__strategy=median; total time= 1.6min\n",
      "[CV] END feature__feature_selection__k=11, feature__imputer__strategy=median; total time= 1.7min\n",
      "[CV] END feature__feature_selection__k=11, feature__imputer__strategy=median; total time= 1.7min\n",
      "[CV] END feature__feature_selection__k=11, feature__imputer__strategy=most_frequent; total time= 1.6min\n",
      "[CV] END feature__feature_selection__k=11, feature__imputer__strategy=most_frequent; total time= 1.9min\n",
      "[CV] END feature__feature_selection__k=11, feature__imputer__strategy=most_frequent; total time= 1.6min\n",
      "[CV] END feature__feature_selection__k=11, feature__imputer__strategy=most_frequent; total time= 1.8min\n",
      "[CV] END feature__feature_selection__k=11, feature__imputer__strategy=most_frequent; total time= 1.8min\n",
      "[CV] END feature__feature_selection__k=12, feature__imputer__strategy=mean; total time= 1.5min\n",
      "[CV] END feature__feature_selection__k=12, feature__imputer__strategy=mean; total time= 1.8min\n",
      "[CV] END feature__feature_selection__k=12, feature__imputer__strategy=mean; total time= 1.5min\n",
      "[CV] END feature__feature_selection__k=12, feature__imputer__strategy=mean; total time= 1.6min\n",
      "[CV] END feature__feature_selection__k=12, feature__imputer__strategy=mean; total time= 1.9min\n",
      "[CV] END feature__feature_selection__k=12, feature__imputer__strategy=median; total time= 1.9min\n",
      "[CV] END feature__feature_selection__k=12, feature__imputer__strategy=median; total time= 1.7min\n",
      "[CV] END feature__feature_selection__k=12, feature__imputer__strategy=median; total time= 1.7min\n",
      "[CV] END feature__feature_selection__k=12, feature__imputer__strategy=median; total time= 1.8min\n",
      "[CV] END feature__feature_selection__k=12, feature__imputer__strategy=median; total time= 1.5min\n",
      "[CV] END feature__feature_selection__k=12, feature__imputer__strategy=most_frequent; total time= 1.7min\n",
      "[CV] END feature__feature_selection__k=12, feature__imputer__strategy=most_frequent; total time= 1.8min\n",
      "[CV] END feature__feature_selection__k=12, feature__imputer__strategy=most_frequent; total time= 1.8min\n",
      "[CV] END feature__feature_selection__k=12, feature__imputer__strategy=most_frequent; total time= 1.7min\n",
      "[CV] END feature__feature_selection__k=12, feature__imputer__strategy=most_frequent; total time= 1.7min\n",
      "[CV] END feature__feature_selection__k=13, feature__imputer__strategy=mean; total time= 1.6min\n",
      "[CV] END feature__feature_selection__k=13, feature__imputer__strategy=mean; total time= 1.8min\n",
      "[CV] END feature__feature_selection__k=13, feature__imputer__strategy=mean; total time=   0.0s\n",
      "[CV] END feature__feature_selection__k=13, feature__imputer__strategy=mean; total time= 1.8min\n",
      "[CV] END feature__feature_selection__k=13, feature__imputer__strategy=mean; total time= 1.9min\n",
      "[CV] END feature__feature_selection__k=13, feature__imputer__strategy=median; total time= 1.8min\n",
      "[CV] END feature__feature_selection__k=13, feature__imputer__strategy=median; total time= 1.7min\n",
      "[CV] END feature__feature_selection__k=13, feature__imputer__strategy=median; total time=   0.0s\n",
      "[CV] END feature__feature_selection__k=13, feature__imputer__strategy=median; total time= 1.8min\n",
      "[CV] END feature__feature_selection__k=13, feature__imputer__strategy=median; total time= 1.6min\n",
      "[CV] END feature__feature_selection__k=13, feature__imputer__strategy=most_frequent; total time= 1.8min\n",
      "[CV] END feature__feature_selection__k=13, feature__imputer__strategy=most_frequent; total time= 1.8min\n",
      "[CV] END feature__feature_selection__k=13, feature__imputer__strategy=most_frequent; total time=   0.0s\n",
      "[CV] END feature__feature_selection__k=13, feature__imputer__strategy=most_frequent; total time= 1.8min\n",
      "[CV] END feature__feature_selection__k=13, feature__imputer__strategy=most_frequent; total time= 1.7min\n",
      "[CV] END feature__feature_selection__k=14, feature__imputer__strategy=mean; total time= 1.6min\n",
      "[CV] END feature__feature_selection__k=14, feature__imputer__strategy=mean; total time= 1.8min\n",
      "[CV] END feature__feature_selection__k=14, feature__imputer__strategy=mean; total time=   0.0s\n",
      "[CV] END feature__feature_selection__k=14, feature__imputer__strategy=mean; total time= 1.9min\n",
      "[CV] END feature__feature_selection__k=14, feature__imputer__strategy=mean; total time= 1.7min\n",
      "[CV] END feature__feature_selection__k=14, feature__imputer__strategy=median; total time= 1.7min\n",
      "[CV] END feature__feature_selection__k=14, feature__imputer__strategy=median; total time= 1.8min\n",
      "[CV] END feature__feature_selection__k=14, feature__imputer__strategy=median; total time=   0.0s\n",
      "[CV] END feature__feature_selection__k=14, feature__imputer__strategy=median; total time= 1.7min\n",
      "[CV] END feature__feature_selection__k=14, feature__imputer__strategy=median; total time= 1.7min\n",
      "[CV] END feature__feature_selection__k=14, feature__imputer__strategy=most_frequent; total time= 1.6min\n",
      "[CV] END feature__feature_selection__k=14, feature__imputer__strategy=most_frequent; total time= 1.8min\n",
      "[CV] END feature__feature_selection__k=14, feature__imputer__strategy=most_frequent; total time=   0.0s\n",
      "[CV] END feature__feature_selection__k=14, feature__imputer__strategy=most_frequent; total time= 1.8min\n",
      "[CV] END feature__feature_selection__k=14, feature__imputer__strategy=most_frequent; total time= 1.8min\n",
      "[CV] END feature__feature_selection__k=15, feature__imputer__strategy=mean; total time= 1.6min\n",
      "[CV] END feature__feature_selection__k=15, feature__imputer__strategy=mean; total time= 1.8min\n",
      "[CV] END feature__feature_selection__k=15, feature__imputer__strategy=mean; total time=   0.0s\n",
      "[CV] END feature__feature_selection__k=15, feature__imputer__strategy=mean; total time= 1.6min\n",
      "[CV] END feature__feature_selection__k=15, feature__imputer__strategy=mean; total time= 1.5min\n",
      "[CV] END feature__feature_selection__k=15, feature__imputer__strategy=median; total time= 1.5min\n",
      "[CV] END feature__feature_selection__k=15, feature__imputer__strategy=median; total time= 1.7min\n",
      "[CV] END feature__feature_selection__k=15, feature__imputer__strategy=median; total time=   0.0s\n",
      "[CV] END feature__feature_selection__k=15, feature__imputer__strategy=median; total time= 1.7min\n",
      "[CV] END feature__feature_selection__k=15, feature__imputer__strategy=median; total time= 1.6min\n",
      "[CV] END feature__feature_selection__k=15, feature__imputer__strategy=most_frequent; total time= 1.5min\n",
      "[CV] END feature__feature_selection__k=15, feature__imputer__strategy=most_frequent; total time= 1.8min\n",
      "[CV] END feature__feature_selection__k=15, feature__imputer__strategy=most_frequent; total time=   0.0s\n",
      "[CV] END feature__feature_selection__k=15, feature__imputer__strategy=most_frequent; total time= 1.7min\n",
      "[CV] END feature__feature_selection__k=15, feature__imputer__strategy=most_frequent; total time= 1.7min\n",
      "[CV] END feature__feature_selection__k=16, feature__imputer__strategy=mean; total time= 1.6min\n",
      "[CV] END feature__feature_selection__k=16, feature__imputer__strategy=mean; total time= 2.0min\n",
      "[CV] END feature__feature_selection__k=16, feature__imputer__strategy=mean; total time=   0.0s\n",
      "[CV] END feature__feature_selection__k=16, feature__imputer__strategy=mean; total time= 1.6min\n",
      "[CV] END feature__feature_selection__k=16, feature__imputer__strategy=mean; total time= 1.6min\n",
      "[CV] END feature__feature_selection__k=16, feature__imputer__strategy=median; total time= 1.5min\n",
      "[CV] END feature__feature_selection__k=16, feature__imputer__strategy=median; total time= 1.6min\n",
      "[CV] END feature__feature_selection__k=16, feature__imputer__strategy=median; total time=   0.0s\n",
      "[CV] END feature__feature_selection__k=16, feature__imputer__strategy=median; total time= 1.8min\n",
      "[CV] END feature__feature_selection__k=16, feature__imputer__strategy=median; total time= 1.8min\n",
      "[CV] END feature__feature_selection__k=16, feature__imputer__strategy=most_frequent; total time= 1.5min\n",
      "[CV] END feature__feature_selection__k=16, feature__imputer__strategy=most_frequent; total time= 1.7min\n",
      "[CV] END feature__feature_selection__k=16, feature__imputer__strategy=most_frequent; total time=   0.0s\n",
      "[CV] END feature__feature_selection__k=16, feature__imputer__strategy=most_frequent; total time= 1.6min\n",
      "[CV] END feature__feature_selection__k=16, feature__imputer__strategy=most_frequent; total time= 1.5min\n"
     ]
    },
    {
     "data": {
      "text/html": [
       "<style>#sk-container-id-7 {color: black;background-color: white;}#sk-container-id-7 pre{padding: 0;}#sk-container-id-7 div.sk-toggleable {background-color: white;}#sk-container-id-7 label.sk-toggleable__label {cursor: pointer;display: block;width: 100%;margin-bottom: 0;padding: 0.3em;box-sizing: border-box;text-align: center;}#sk-container-id-7 label.sk-toggleable__label-arrow:before {content: \"▸\";float: left;margin-right: 0.25em;color: #696969;}#sk-container-id-7 label.sk-toggleable__label-arrow:hover:before {color: black;}#sk-container-id-7 div.sk-estimator:hover label.sk-toggleable__label-arrow:before {color: black;}#sk-container-id-7 div.sk-toggleable__content {max-height: 0;max-width: 0;overflow: hidden;text-align: left;background-color: #f0f8ff;}#sk-container-id-7 div.sk-toggleable__content pre {margin: 0.2em;color: black;border-radius: 0.25em;background-color: #f0f8ff;}#sk-container-id-7 input.sk-toggleable__control:checked~div.sk-toggleable__content {max-height: 200px;max-width: 100%;overflow: auto;}#sk-container-id-7 input.sk-toggleable__control:checked~label.sk-toggleable__label-arrow:before {content: \"▾\";}#sk-container-id-7 div.sk-estimator input.sk-toggleable__control:checked~label.sk-toggleable__label {background-color: #d4ebff;}#sk-container-id-7 div.sk-label input.sk-toggleable__control:checked~label.sk-toggleable__label {background-color: #d4ebff;}#sk-container-id-7 input.sk-hidden--visually {border: 0;clip: rect(1px 1px 1px 1px);clip: rect(1px, 1px, 1px, 1px);height: 1px;margin: -1px;overflow: hidden;padding: 0;position: absolute;width: 1px;}#sk-container-id-7 div.sk-estimator {font-family: monospace;background-color: #f0f8ff;border: 1px dotted black;border-radius: 0.25em;box-sizing: border-box;margin-bottom: 0.5em;}#sk-container-id-7 div.sk-estimator:hover {background-color: #d4ebff;}#sk-container-id-7 div.sk-parallel-item::after {content: \"\";width: 100%;border-bottom: 1px solid gray;flex-grow: 1;}#sk-container-id-7 div.sk-label:hover label.sk-toggleable__label {background-color: #d4ebff;}#sk-container-id-7 div.sk-serial::before {content: \"\";position: absolute;border-left: 1px solid gray;box-sizing: border-box;top: 0;bottom: 0;left: 50%;z-index: 0;}#sk-container-id-7 div.sk-serial {display: flex;flex-direction: column;align-items: center;background-color: white;padding-right: 0.2em;padding-left: 0.2em;position: relative;}#sk-container-id-7 div.sk-item {position: relative;z-index: 1;}#sk-container-id-7 div.sk-parallel {display: flex;align-items: stretch;justify-content: center;background-color: white;position: relative;}#sk-container-id-7 div.sk-item::before, #sk-container-id-7 div.sk-parallel-item::before {content: \"\";position: absolute;border-left: 1px solid gray;box-sizing: border-box;top: 0;bottom: 0;left: 50%;z-index: -1;}#sk-container-id-7 div.sk-parallel-item {display: flex;flex-direction: column;z-index: 1;position: relative;background-color: white;}#sk-container-id-7 div.sk-parallel-item:first-child::after {align-self: flex-end;width: 50%;}#sk-container-id-7 div.sk-parallel-item:last-child::after {align-self: flex-start;width: 50%;}#sk-container-id-7 div.sk-parallel-item:only-child::after {width: 0;}#sk-container-id-7 div.sk-dashed-wrapped {border: 1px dashed gray;margin: 0 0.4em 0.5em 0.4em;box-sizing: border-box;padding-bottom: 0.4em;background-color: white;}#sk-container-id-7 div.sk-label label {font-family: monospace;font-weight: bold;display: inline-block;line-height: 1.2em;}#sk-container-id-7 div.sk-label-container {text-align: center;}#sk-container-id-7 div.sk-container {/* jupyter's `normalize.less` sets `[hidden] { display: none; }` but bootstrap.min.css set `[hidden] { display: none !important; }` so we also need the `!important` here to be able to override the default hidden behavior on the sphinx rendered scikit-learn.org. See: https://github.com/scikit-learn/scikit-learn/issues/21755 */display: inline-block !important;position: relative;}#sk-container-id-7 div.sk-text-repr-fallback {display: none;}</style><div id=\"sk-container-id-7\" class=\"sk-top-container\"><div class=\"sk-text-repr-fallback\"><pre>GridSearchCV(cv=5,\n",
       "             estimator=Pipeline(steps=[(&#x27;feature&#x27;,\n",
       "                                        Pipeline(steps=[(&#x27;column_tranformation&#x27;,\n",
       "                                                         CustomTransformer(features=       longitude  latitude  housing_median_age  total_rooms  total_bedrooms  \\\n",
       "0        -122.23     37.88                41.0        880.0           129.0   \n",
       "1        -122.22     37.86                21.0       7099.0          1106.0   \n",
       "2        -122.24     37.85                52.0       1467.0           190.0   \n",
       "3        -122.25     37.85                52.0       1274.0           235.0   \n",
       "4        -122.25     37.85                52.0       1627.0           280.0   \n",
       "...          ...       ...                 ...          ...             ...   \n",
       "20635    -121...\n",
       "       5.79357146e-04, 2.62099817e-02, 2.48643198e-02, 1.20366526e-01,\n",
       "       1.41930612e-01, 1.50743929e-04, 6.98718263e-04, 2.94772516e-03]),\n",
       "                                                                            k=6))])),\n",
       "                                       (&#x27;svm_reg&#x27;,\n",
       "                                        SVR(C=3.0, kernel=&#x27;linear&#x27;))]),\n",
       "             param_grid=[{&#x27;feature__feature_selection__k&#x27;: [1, 2, 3, 4, 5, 6, 7,\n",
       "                                                            8, 9, 10, 11, 12,\n",
       "                                                            13, 14, 15, 16],\n",
       "                          &#x27;feature__imputer__strategy&#x27;: [&#x27;mean&#x27;, &#x27;median&#x27;,\n",
       "                                                         &#x27;most_frequent&#x27;]}],\n",
       "             scoring=&#x27;neg_mean_squared_error&#x27;, verbose=2)</pre><b>In a Jupyter environment, please rerun this cell to show the HTML representation or trust the notebook. <br />On GitHub, the HTML representation is unable to render, please try loading this page with nbviewer.org.</b></div><div class=\"sk-container\" hidden><div class=\"sk-item sk-dashed-wrapped\"><div class=\"sk-label-container\"><div class=\"sk-label sk-toggleable\"><input class=\"sk-toggleable__control sk-hidden--visually\" id=\"sk-estimator-id-18\" type=\"checkbox\" ><label for=\"sk-estimator-id-18\" class=\"sk-toggleable__label sk-toggleable__label-arrow\">GridSearchCV</label><div class=\"sk-toggleable__content\"><pre>GridSearchCV(cv=5,\n",
       "             estimator=Pipeline(steps=[(&#x27;feature&#x27;,\n",
       "                                        Pipeline(steps=[(&#x27;column_tranformation&#x27;,\n",
       "                                                         CustomTransformer(features=       longitude  latitude  housing_median_age  total_rooms  total_bedrooms  \\\n",
       "0        -122.23     37.88                41.0        880.0           129.0   \n",
       "1        -122.22     37.86                21.0       7099.0          1106.0   \n",
       "2        -122.24     37.85                52.0       1467.0           190.0   \n",
       "3        -122.25     37.85                52.0       1274.0           235.0   \n",
       "4        -122.25     37.85                52.0       1627.0           280.0   \n",
       "...          ...       ...                 ...          ...             ...   \n",
       "20635    -121...\n",
       "       5.79357146e-04, 2.62099817e-02, 2.48643198e-02, 1.20366526e-01,\n",
       "       1.41930612e-01, 1.50743929e-04, 6.98718263e-04, 2.94772516e-03]),\n",
       "                                                                            k=6))])),\n",
       "                                       (&#x27;svm_reg&#x27;,\n",
       "                                        SVR(C=3.0, kernel=&#x27;linear&#x27;))]),\n",
       "             param_grid=[{&#x27;feature__feature_selection__k&#x27;: [1, 2, 3, 4, 5, 6, 7,\n",
       "                                                            8, 9, 10, 11, 12,\n",
       "                                                            13, 14, 15, 16],\n",
       "                          &#x27;feature__imputer__strategy&#x27;: [&#x27;mean&#x27;, &#x27;median&#x27;,\n",
       "                                                         &#x27;most_frequent&#x27;]}],\n",
       "             scoring=&#x27;neg_mean_squared_error&#x27;, verbose=2)</pre></div></div></div><div class=\"sk-parallel\"><div class=\"sk-parallel-item\"><div class=\"sk-item\"><div class=\"sk-label-container\"><div class=\"sk-label sk-toggleable\"><input class=\"sk-toggleable__control sk-hidden--visually\" id=\"sk-estimator-id-19\" type=\"checkbox\" ><label for=\"sk-estimator-id-19\" class=\"sk-toggleable__label sk-toggleable__label-arrow\">estimator: Pipeline</label><div class=\"sk-toggleable__content\"><pre>Pipeline(steps=[(&#x27;feature&#x27;,\n",
       "                 Pipeline(steps=[(&#x27;column_tranformation&#x27;,\n",
       "                                  CustomTransformer(features=       longitude  latitude  housing_median_age  total_rooms  total_bedrooms  \\\n",
       "0        -122.23     37.88                41.0        880.0           129.0   \n",
       "1        -122.22     37.86                21.0       7099.0          1106.0   \n",
       "2        -122.24     37.85                52.0       1467.0           190.0   \n",
       "3        -122.25     37.85                52.0       1274.0           235.0   \n",
       "4        -122.25     37.85                52.0       1627.0           280.0   \n",
       "...          ...       ...                 ...          ...             ...   \n",
       "20635    -121.09     39.48                25.0       1665.0           374.0   \n",
       "20636...\n",
       "                                 (&#x27;feature_selection&#x27;,\n",
       "                                  TopFeatureSelector(feature_importances=array([6.09947927e-02, 5.74575556e-02, 4.32611864e-02, 1.25015583e-02,\n",
       "       1.19138601e-02, 1.14673664e-02, 1.05600835e-02, 4.74095613e-01,\n",
       "       5.79357146e-04, 2.62099817e-02, 2.48643198e-02, 1.20366526e-01,\n",
       "       1.41930612e-01, 1.50743929e-04, 6.98718263e-04, 2.94772516e-03]),\n",
       "                                                     k=6))])),\n",
       "                (&#x27;svm_reg&#x27;, SVR(C=3.0, kernel=&#x27;linear&#x27;))])</pre></div></div></div><div class=\"sk-serial\"><div class=\"sk-item\"><div class=\"sk-serial\"><div class=\"sk-item\"><div class=\"sk-label-container\"><div class=\"sk-label sk-toggleable\"><input class=\"sk-toggleable__control sk-hidden--visually\" id=\"sk-estimator-id-20\" type=\"checkbox\" ><label for=\"sk-estimator-id-20\" class=\"sk-toggleable__label sk-toggleable__label-arrow\">feature: Pipeline</label><div class=\"sk-toggleable__content\"><pre>Pipeline(steps=[(&#x27;column_tranformation&#x27;,\n",
       "                 CustomTransformer(features=       longitude  latitude  housing_median_age  total_rooms  total_bedrooms  \\\n",
       "0        -122.23     37.88                41.0        880.0           129.0   \n",
       "1        -122.22     37.86                21.0       7099.0          1106.0   \n",
       "2        -122.24     37.85                52.0       1467.0           190.0   \n",
       "3        -122.25     37.85                52.0       1274.0           235.0   \n",
       "4        -122.25     37.85                52.0       1627.0           280.0   \n",
       "...          ...       ...                 ...          ...             ...   \n",
       "20635    -121.09     39.48                25.0       1665.0           374.0   \n",
       "20636    -121.21     39.49                18.0        697.0           150.0   \n",
       "2...\n",
       "                (&#x27;imputer&#x27;, SimpleImputer(strategy=&#x27;median&#x27;)),\n",
       "                (&#x27;feature_selection&#x27;,\n",
       "                 TopFeatureSelector(feature_importances=array([6.09947927e-02, 5.74575556e-02, 4.32611864e-02, 1.25015583e-02,\n",
       "       1.19138601e-02, 1.14673664e-02, 1.05600835e-02, 4.74095613e-01,\n",
       "       5.79357146e-04, 2.62099817e-02, 2.48643198e-02, 1.20366526e-01,\n",
       "       1.41930612e-01, 1.50743929e-04, 6.98718263e-04, 2.94772516e-03]),\n",
       "                                    k=6))])</pre></div></div></div><div class=\"sk-serial\"><div class=\"sk-item\"><div class=\"sk-estimator sk-toggleable\"><input class=\"sk-toggleable__control sk-hidden--visually\" id=\"sk-estimator-id-21\" type=\"checkbox\" ><label for=\"sk-estimator-id-21\" class=\"sk-toggleable__label sk-toggleable__label-arrow\">CustomTransformer</label><div class=\"sk-toggleable__content\"><pre>CustomTransformer(features=       longitude  latitude  housing_median_age  total_rooms  total_bedrooms  \\\n",
       "0        -122.23     37.88                41.0        880.0           129.0   \n",
       "1        -122.22     37.86                21.0       7099.0          1106.0   \n",
       "2        -122.24     37.85                52.0       1467.0           190.0   \n",
       "3        -122.25     37.85                52.0       1274.0           235.0   \n",
       "4        -122.25     37.85                52.0       1627.0           280.0   \n",
       "...          ...       ...                 ...          ...             ...   \n",
       "20635    -121.09     39.48                25.0       1665.0           374.0   \n",
       "20636    -121.21     39.49                18.0        697.0           150.0   \n",
       "20637    -121.22     39.43                17.0       2254.0           485.0   \n",
       "20638    -121...\n",
       "4                 6.281853           0.172096                  2.181467  \n",
       "...                    ...                ...                       ...  \n",
       "20635             5.045455           0.224625                  2.560606  \n",
       "20636             6.114035           0.215208                  3.122807  \n",
       "20637             5.205543           0.215173                  2.325635  \n",
       "20638             5.329513           0.219892                  2.123209  \n",
       "20639             5.254717           0.221185                  2.616981  \n",
       "\n",
       "[20640 rows x 13 columns],\n",
       "                  labels=0        452600.0\n",
       "1        358500.0\n",
       "2        352100.0\n",
       "3        341300.0\n",
       "4        342200.0\n",
       "           ...   \n",
       "20635     78100.0\n",
       "20636     77100.0\n",
       "20637     92300.0\n",
       "20638     84700.0\n",
       "20639     89400.0\n",
       "Name: median_house_value, Length: 20640, dtype: float64)</pre></div></div></div><div class=\"sk-item\"><div class=\"sk-estimator sk-toggleable\"><input class=\"sk-toggleable__control sk-hidden--visually\" id=\"sk-estimator-id-22\" type=\"checkbox\" ><label for=\"sk-estimator-id-22\" class=\"sk-toggleable__label sk-toggleable__label-arrow\">SimpleImputer</label><div class=\"sk-toggleable__content\"><pre>SimpleImputer(strategy=&#x27;median&#x27;)</pre></div></div></div><div class=\"sk-item\"><div class=\"sk-estimator sk-toggleable\"><input class=\"sk-toggleable__control sk-hidden--visually\" id=\"sk-estimator-id-23\" type=\"checkbox\" ><label for=\"sk-estimator-id-23\" class=\"sk-toggleable__label sk-toggleable__label-arrow\">TopFeatureSelector</label><div class=\"sk-toggleable__content\"><pre>TopFeatureSelector(feature_importances=array([6.09947927e-02, 5.74575556e-02, 4.32611864e-02, 1.25015583e-02,\n",
       "       1.19138601e-02, 1.14673664e-02, 1.05600835e-02, 4.74095613e-01,\n",
       "       5.79357146e-04, 2.62099817e-02, 2.48643198e-02, 1.20366526e-01,\n",
       "       1.41930612e-01, 1.50743929e-04, 6.98718263e-04, 2.94772516e-03]),\n",
       "                   k=6)</pre></div></div></div></div></div><div class=\"sk-item\"><div class=\"sk-estimator sk-toggleable\"><input class=\"sk-toggleable__control sk-hidden--visually\" id=\"sk-estimator-id-24\" type=\"checkbox\" ><label for=\"sk-estimator-id-24\" class=\"sk-toggleable__label sk-toggleable__label-arrow\">SVR</label><div class=\"sk-toggleable__content\"><pre>SVR(C=3.0, kernel=&#x27;linear&#x27;)</pre></div></div></div></div></div></div></div></div></div></div></div></div>"
      ],
      "text/plain": [
       "GridSearchCV(cv=5,\n",
       "             estimator=Pipeline(steps=[('feature',\n",
       "                                        Pipeline(steps=[('column_tranformation',\n",
       "                                                         CustomTransformer(features=       longitude  latitude  housing_median_age  total_rooms  total_bedrooms  \\\n",
       "0        -122.23     37.88                41.0        880.0           129.0   \n",
       "1        -122.22     37.86                21.0       7099.0          1106.0   \n",
       "2        -122.24     37.85                52.0       1467.0           190.0   \n",
       "3        -122.25     37.85                52.0       1274.0           235.0   \n",
       "4        -122.25     37.85                52.0       1627.0           280.0   \n",
       "...          ...       ...                 ...          ...             ...   \n",
       "20635    -121...\n",
       "       5.79357146e-04, 2.62099817e-02, 2.48643198e-02, 1.20366526e-01,\n",
       "       1.41930612e-01, 1.50743929e-04, 6.98718263e-04, 2.94772516e-03]),\n",
       "                                                                            k=6))])),\n",
       "                                       ('svm_reg',\n",
       "                                        SVR(C=3.0, kernel='linear'))]),\n",
       "             param_grid=[{'feature__feature_selection__k': [1, 2, 3, 4, 5, 6, 7,\n",
       "                                                            8, 9, 10, 11, 12,\n",
       "                                                            13, 14, 15, 16],\n",
       "                          'feature__imputer__strategy': ['mean', 'median',\n",
       "                                                         'most_frequent']}],\n",
       "             scoring='neg_mean_squared_error', verbose=2)"
      ]
     },
     "execution_count": 36,
     "metadata": {},
     "output_type": "execute_result"
    }
   ],
   "source": [
    "param_grid = [{\n",
    "    'feature__imputer__strategy': ['mean', 'median', 'most_frequent'],\n",
    "    'feature__feature_selection__k': list(range(1, len(feature_importances) + 1))\n",
    "}]\n",
    "\n",
    "grid_search_prep = GridSearchCV(model_new, param_grid, cv=5,\n",
    "                                scoring='neg_mean_squared_error', verbose=2)\n",
    "grid_search_prep.fit(housing, labels)"
   ]
  },
  {
   "cell_type": "code",
   "execution_count": 37,
   "id": "2799cf6c-1bca-4d08-89c8-cc8979c9ed20",
   "metadata": {
    "collapsed": true,
    "jupyter": {
     "outputs_hidden": true
    },
    "tags": []
   },
   "outputs": [
    {
     "data": {
      "text/plain": [
       "['__abstractmethods__',\n",
       " '__class__',\n",
       " '__delattr__',\n",
       " '__dict__',\n",
       " '__dir__',\n",
       " '__doc__',\n",
       " '__eq__',\n",
       " '__format__',\n",
       " '__ge__',\n",
       " '__getattribute__',\n",
       " '__getstate__',\n",
       " '__gt__',\n",
       " '__hash__',\n",
       " '__init__',\n",
       " '__init_subclass__',\n",
       " '__le__',\n",
       " '__lt__',\n",
       " '__module__',\n",
       " '__ne__',\n",
       " '__new__',\n",
       " '__reduce__',\n",
       " '__reduce_ex__',\n",
       " '__repr__',\n",
       " '__setattr__',\n",
       " '__setstate__',\n",
       " '__sizeof__',\n",
       " '__str__',\n",
       " '__subclasshook__',\n",
       " '__weakref__',\n",
       " '_abc_impl',\n",
       " '_check_feature_names',\n",
       " '_check_n_features',\n",
       " '_check_refit_for_multimetric',\n",
       " '_estimator_type',\n",
       " '_format_results',\n",
       " '_get_param_names',\n",
       " '_get_tags',\n",
       " '_more_tags',\n",
       " '_repr_html_',\n",
       " '_repr_html_inner',\n",
       " '_repr_mimebundle_',\n",
       " '_required_parameters',\n",
       " '_run_search',\n",
       " '_select_best_index',\n",
       " '_validate_data',\n",
       " '_validate_params',\n",
       " 'best_estimator_',\n",
       " 'best_index_',\n",
       " 'best_params_',\n",
       " 'best_score_',\n",
       " 'classes_',\n",
       " 'cv',\n",
       " 'cv_results_',\n",
       " 'decision_function',\n",
       " 'error_score',\n",
       " 'estimator',\n",
       " 'fit',\n",
       " 'get_params',\n",
       " 'inverse_transform',\n",
       " 'multimetric_',\n",
       " 'n_features_in_',\n",
       " 'n_jobs',\n",
       " 'n_splits_',\n",
       " 'param_grid',\n",
       " 'pre_dispatch',\n",
       " 'predict',\n",
       " 'predict_log_proba',\n",
       " 'predict_proba',\n",
       " 'refit',\n",
       " 'refit_time_',\n",
       " 'return_train_score',\n",
       " 'score',\n",
       " 'score_samples',\n",
       " 'scorer_',\n",
       " 'scoring',\n",
       " 'set_params',\n",
       " 'transform',\n",
       " 'verbose']"
      ]
     },
     "execution_count": 37,
     "metadata": {},
     "output_type": "execute_result"
    }
   ],
   "source": [
    "dir(grid_search_prep)"
   ]
  },
  {
   "cell_type": "code",
   "execution_count": 38,
   "id": "51901746-e270-4341-ac2d-ece530132f95",
   "metadata": {},
   "outputs": [
    {
     "data": {
      "text/plain": [
       "{'feature__feature_selection__k': 1, 'feature__imputer__strategy': 'mean'}"
      ]
     },
     "execution_count": 38,
     "metadata": {},
     "output_type": "execute_result"
    }
   ],
   "source": [
    "grid_search_prep.best_params_"
   ]
  },
  {
   "cell_type": "code",
   "execution_count": null,
   "id": "5c4e1a25-e576-40df-b414-2324556b04ec",
   "metadata": {},
   "outputs": [],
   "source": []
  },
  {
   "cell_type": "code",
   "execution_count": null,
   "id": "45a7446a-cb59-487a-967e-fcfe0456e2f0",
   "metadata": {},
   "outputs": [],
   "source": []
  },
  {
   "cell_type": "code",
   "execution_count": null,
   "id": "9b01e51c-2fe0-4c13-9d74-8079edb23941",
   "metadata": {},
   "outputs": [],
   "source": []
  },
  {
   "cell_type": "code",
   "execution_count": null,
   "id": "2023c93a-898c-427a-8c8b-8b7234c8c612",
   "metadata": {},
   "outputs": [],
   "source": []
  }
 ],
 "metadata": {
  "kernelspec": {
   "display_name": "Python 3 (ipykernel)",
   "language": "python",
   "name": "python3"
  },
  "language_info": {
   "codemirror_mode": {
    "name": "ipython",
    "version": 3
   },
   "file_extension": ".py",
   "mimetype": "text/x-python",
   "name": "python",
   "nbconvert_exporter": "python",
   "pygments_lexer": "ipython3",
   "version": "3.10.6"
  }
 },
 "nbformat": 4,
 "nbformat_minor": 5
}
